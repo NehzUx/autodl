{
 "cells": [
  {
   "cell_type": "markdown",
   "metadata": {},
   "source": [
    "<div><img src=\"logo.gif\" width=\"220\" ALIGN=\"left\" border=\"20\"></div>\n",
    "<center><font color=\"4466ff\"> <h1>AutoCV Starting Kit </h1> </font></center>\n",
    "<br>\n",
    "<p>This code was tested with docker evariste/autodl:dockerfile \n",
    "<p>\n",
    "ALL INFORMATION, SOFTWARE, DOCUMENTATION, AND DATA ARE PROVIDED \"AS-IS\".\n",
    "UNIVERSITE PARIS SUD, INRIA, CHALEARN, AND/OR OTHER ORGANIZERS\n",
    "OR CODE AUTHORS DISCLAIM ANY EXPRESSED OR IMPLIED WARRANTIES."
   ]
  },
  {
   "cell_type": "markdown",
   "metadata": {},
   "source": [
    "# Introduction\n",
    "\n",
    "* We target applications of multi-label image classification. \n",
    "* Raw data are provided, in TF record format.  \n",
    "* We impose restrictions on training time and resources to push the state-of-the-art further.\n",
    "* This notebook uses sample data. Download larger datasets from the website of the challenge."
   ]
  },
  {
   "cell_type": "code",
   "execution_count": 103,
   "metadata": {},
   "outputs": [
    {
     "name": "stdout",
     "output_type": "stream",
     "text": [
      "The autoreload extension is already loaded. To reload it, use:\n",
      "  %reload_ext autoreload\n"
     ]
    }
   ],
   "source": [
    "model_dir = 'AutoDL_sample_code_submission/'      # Where the code you should submit is found (called model.py)\n",
    "simple_dir = 'AutoDL_simple_baseline_models/'    # Where you find some examples of code to replace model.py\n",
    "lib_dir = 'AutoDL_ingestion_program/'             # Useful libraries used on Codalab\n",
    "score_dir = 'AutoDL_scoring_program/'             # Scoring program \n",
    "from sys import path; path.append(model_dir); path.append(lib_dir); path.append(score_dir); \n",
    "%matplotlib inline\n",
    "# Uncomment the next lines to auto-reload libraries (this causes some problem with pickles in Python 3)\n",
    "%load_ext autoreload\n",
    "%autoreload 2\n",
    "import tensorflow as tf\n",
    "import warnings; warnings.filterwarnings(\"ignore\")\n",
    "from os.path import join"
   ]
  },
  {
   "cell_type": "markdown",
   "metadata": {},
   "source": [
    "<div style=\"background:#cfdfff\">\n",
    "    <h1> Step 1: Load data </h1>\n",
    "<p>\n",
    "We provide sample_data with the starting kit, but you may fetch other public_data from the challenge website and subtitute it to sample_data.\n",
    "</div>"
   ]
  },
  {
   "cell_type": "code",
   "execution_count": 63,
   "metadata": {},
   "outputs": [
    {
     "name": "stdout",
     "output_type": "stream",
     "text": [
      "Monkeys.data\t  miniciao.data      miniciao_label.name\r\n",
      "Monkeys.solution  miniciao.solution  miniciao_public.info\r\n"
     ]
    }
   ],
   "source": [
    "data_dir = 'AutoDL_sample_data'            # Change this directory and the dataset as needed\n",
    "data_name = 'miniciao' #'miniciao' 'Monkeys' #\n",
    "!ls $data_dir*"
   ]
  },
  {
   "cell_type": "code",
   "execution_count": 64,
   "metadata": {},
   "outputs": [],
   "source": [
    "from dataset import AutoDLDataset\n",
    "D_train = AutoDLDataset(join(data_dir, data_name + '.data', \"train\"))\n",
    "D_test = AutoDLDataset(join(data_dir, data_name + '.data', \"test\"))"
   ]
  },
  {
   "cell_type": "markdown",
   "metadata": {},
   "source": [
    "<div style=\"background:#cfdfff\">\n",
    "    <h1> Step 2: Exploratory data analysis </h1>\n",
    "    <br>\n",
    "    <font color=\"ff0000\"> THIS NEEDS MORE EXAMPLES OF DATA VISUALIZATION. T-SNE? We also need to show the TEXT labels.</font>\n",
    "</div>\n"
   ]
  },
  {
   "cell_type": "code",
   "execution_count": 71,
   "metadata": {},
   "outputs": [
    {
     "data": {
      "image/png": "[encoded data removed]",
      "text/plain": [
       "<Figure size 432x288 with 1 Axes>"
      ]
     },
     "metadata": {
      "needs_background": "light"
     },
     "output_type": "display_data"
    },
    {
     "data": {
      "image/png": "[encoded data removed]",
      "text/plain": [
       "<Figure size 432x288 with 1 Axes>"
      ]
     },
     "metadata": {
      "needs_background": "light"
     },
     "output_type": "display_data"
    },
    {
     "data": {
      "text/plain": [
       "<module 'matplotlib.pyplot' from '/usr/local/lib/python3.5/dist-packages/matplotlib/pyplot.py'>"
      ]
     },
     "execution_count": 71,
     "metadata": {},
     "output_type": "execute_result"
    }
   ],
   "source": [
    "D_train.show_image(1)\n",
    "D_train.show_image(11)"
   ]
  },
  {
   "cell_type": "code",
   "execution_count": 114,
   "metadata": {},
   "outputs": [
    {
     "name": "stdout",
     "output_type": "stream",
     "text": [
      "['airplane', 'automobile', 'bird', 'cat', 'deer', 'dog', 'frog', 'horse', 'ship', 'truck']\n"
     ]
    }
   ],
   "source": [
    "class_labels=D_train.get_class_labels()\n",
    "print(class_labels)"
   ]
  },
  {
   "cell_type": "markdown",
   "metadata": {},
   "source": [
    "<div style=\"background:#cfdfff\">\n",
    "    <h1>Step 3: Building a predictive model</h1>\n",
    "    <p>\n",
    "We provide a simple example of predictive model in the `AutoDL_sample_code_submission/` directory. You can change it to another example by copying other examples from AutoDL_simple_baseline_models.\n",
    "</div>"
   ]
  },
  {
   "cell_type": "code",
   "execution_count": 140,
   "metadata": {},
   "outputs": [],
   "source": [
    "my_chosen_model = join(simple_dir, '2dcnn.py')  # all_zero.py, linear.py, or 2dcnn.py\n",
    "my_submitted_model = join(model_dir, 'model.py') # submitted models must be called model.py\n",
    "!cp $my_chosen_model $my_submitted_model\n",
    "!rm -r checkpoints*                              # clean up previous models"
   ]
  },
  {
   "cell_type": "code",
   "execution_count": 141,
   "metadata": {},
   "outputs": [
    {
     "name": "stderr",
     "output_type": "stream",
     "text": [
      "[autoreload of model failed: Traceback (most recent call last):\n",
      "  File \"/usr/local/lib/python3.5/dist-packages/IPython/extensions/autoreload.py\", line 244, in check\n",
      "    superreload(m, reload, self.old_objects)\n",
      "  File \"/usr/local/lib/python3.5/dist-packages/IPython/extensions/autoreload.py\", line 376, in superreload\n",
      "    module = reload(module)\n",
      "  File \"/usr/lib/python3.5/imp.py\", line 314, in reload\n",
      "    return importlib.reload(module)\n",
      "  File \"/usr/lib/python3.5/importlib/__init__.py\", line 166, in reload\n",
      "    _bootstrap._exec(spec, module)\n",
      "  File \"<frozen importlib._bootstrap>\", line 626, in _exec\n",
      "  File \"<frozen importlib._bootstrap_external>\", line 665, in exec_module\n",
      "  File \"<frozen importlib._bootstrap>\", line 222, in _call_with_frames_removed\n",
      "  File \"AutoDL_sample_code_submission/model.py\", line 44, in <module>\n",
      "    raise ValueError(\"You need to git clone the GitHub repo \"\n",
      "ValueError: You need to git clone the GitHub repo at https://github.com/tensorflow/models, at the parallel level of autodl repo.\n",
      "]\n"
     ]
    },
    {
     "name": "stdout",
     "output_type": "stream",
     "text": [
      "MODEL INFO: 19-03-17 09:30:08 The dataset miniciao has 82 training examples and 10 classes.\n",
      "INFO:tensorflow:Using default config.\n",
      "INFO:tensorflow:Using config: {'_master': '', '_save_checkpoints_secs': 600, '_tf_random_seed': None, '_evaluation_master': '', '_eval_distribute': None, '_save_summary_steps': 100, '_model_dir': '/app/codalab/AutoDL_sample_code_submission/../checkpoints_miniciao', '_task_type': 'worker', '_train_distribute': None, '_save_checkpoints_steps': None, '_service': None, '_num_ps_replicas': 0, '_log_step_count_steps': 100, '_protocol': None, '_keep_checkpoint_every_n_hours': 10000, '_cluster_spec': <tensorflow.python.training.server_lib.ClusterSpec object at 0x7f57557aed68>, '_global_id_in_cluster': 0, '_is_chief': True, '_device_fn': None, '_keep_checkpoint_max': 5, '_experimental_distribute': None, '_num_worker_replicas': 1, '_task_id': 0, '_session_config': allow_soft_placement: true\n",
      "graph_options {\n",
      "  rewrite_options {\n",
      "    meta_optimizer_iterations: ONE\n",
      "  }\n",
      "}\n",
      "}\n"
     ]
    }
   ],
   "source": [
    "from model import Model\n",
    "??Model\n",
    "time_budget=100\n",
    "M = Model(D_train.get_metadata())"
   ]
  },
  {
   "cell_type": "code",
   "execution_count": 142,
   "metadata": {},
   "outputs": [
    {
     "name": "stdout",
     "output_type": "stream",
     "text": [
      "MODEL INFO: 19-03-17 09:30:12 Begin training for another 10 steps...\n",
      "MODEL INFO: 19-03-17 09:30:12 Tensor shape before preprocessing: (1, 32, 32, 3)\n",
      "MODEL INFO: 19-03-17 09:30:12 Tensor shape after preprocessing: (1, 32, 32, 3)\n",
      "INFO:tensorflow:Calling model_fn.\n",
      "INFO:tensorflow:Done calling model_fn.\n",
      "INFO:tensorflow:Create CheckpointSaverHook.\n",
      "INFO:tensorflow:Graph was finalized.\n",
      "INFO:tensorflow:Running local_init_op.\n",
      "INFO:tensorflow:Done running local_init_op.\n",
      "INFO:tensorflow:Saving checkpoints for 0 into /app/codalab/AutoDL_sample_code_submission/../checkpoints_miniciao/model.ckpt.\n",
      "INFO:tensorflow:loss = 193.7046, step = 1\n",
      "INFO:tensorflow:Saving checkpoints for 10 into /app/codalab/AutoDL_sample_code_submission/../checkpoints_miniciao/model.ckpt.\n",
      "INFO:tensorflow:Loss for final step: 121.52826.\n",
      "MODEL INFO: 19-03-17 09:30:14 10 steps trained. 1.67 sec used. Now total steps trained: 10. Total time used for training: 1.67 sec. Current estimated time per step: 1.67e-01 sec.\n"
     ]
    }
   ],
   "source": [
    "M.train(D_train.get_dataset(),\n",
    "                  remaining_time_budget=time_budget)"
   ]
  },
  {
   "cell_type": "code",
   "execution_count": 143,
   "metadata": {},
   "outputs": [
    {
     "name": "stdout",
     "output_type": "stream",
     "text": [
      "MODEL INFO: 19-03-17 09:30:16 Model already trained for 3.658536585365854 epochs.\n",
      "MODEL INFO: 19-03-17 09:30:16 Begin testing... \n",
      "MODEL INFO: 19-03-17 09:30:16 Tensor shape before preprocessing: (1, 32, 32, 3)\n",
      "MODEL INFO: 19-03-17 09:30:16 Tensor shape after preprocessing: (1, 32, 32, 3)\n",
      "INFO:tensorflow:Calling model_fn.\n",
      "INFO:tensorflow:Done calling model_fn.\n",
      "INFO:tensorflow:Graph was finalized.\n",
      "INFO:tensorflow:Restoring parameters from /app/codalab/AutoDL_sample_code_submission/../checkpoints_miniciao/model.ckpt-10\n",
      "INFO:tensorflow:Running local_init_op.\n",
      "INFO:tensorflow:Done running local_init_op.\n",
      "MODEL INFO: 19-03-17 09:30:16 Asserting predictions have the same number of columns...\n",
      "MODEL INFO: 19-03-17 09:30:16 [+] Successfully made one prediction. 0.49 sec used. Total time used for testing: 0.49 sec. Current estimated time for test: 4.92e-01 sec.\n"
     ]
    }
   ],
   "source": [
    "prediction = M.test(D_test.get_dataset(), remaining_time_budget=time_budget)"
   ]
  },
  {
   "cell_type": "markdown",
   "metadata": {},
   "source": [
    "<div style=\"background:#cfdfff\">\n",
    "<h1> Step 4: Compute score </h1> \n",
    "Compute the balanced accuracy for the chosen duration. For this challenge, you will be judged on the area under the learning curve, computed for increasing training times.\n",
    "</div>"
   ]
  },
  {
   "cell_type": "code",
   "execution_count": 144,
   "metadata": {
    "scrolled": true
   },
   "outputs": [
    {
     "name": "stdout",
     "output_type": "stream",
     "text": [
      "Number of test examples: 18 \n",
      "\t\t Solution \t\t\t\t\t Prediction \n",
      "(array([1., 0., 0., 0., 0., 0., 0., 0., 0., 0.]), array([0.10137313, 0.07249485, 0.03862847, 0.0009139 , 0.00066142,\n",
      "       0.042797  , 0.00044565, 0.00360972, 0.00849053, 0.06926824],\n",
      "      dtype=float32))\n",
      "(array([1., 0., 0., 0., 0., 0., 0., 0., 0., 0.]), array([0.2459344 , 0.18457907, 0.12159726, 0.0180882 , 0.01721023,\n",
      "       0.19034034, 0.01120961, 0.05622029, 0.06102068, 0.25208798],\n",
      "      dtype=float32))\n",
      "(array([0., 1., 0., 0., 0., 0., 0., 0., 0., 0.]), array([0.2318269 , 0.15950322, 0.14678834, 0.00795974, 0.00828409,\n",
      "       0.14395913, 0.00757174, 0.03016639, 0.04494657, 0.21996057],\n",
      "      dtype=float32))\n",
      "(array([0., 1., 0., 0., 0., 0., 0., 0., 0., 0.]), array([0.12226851, 0.1612928 , 0.06081439, 0.00639394, 0.01489176,\n",
      "       0.11846327, 0.00912399, 0.02061243, 0.04477402, 0.17401539],\n",
      "      dtype=float32))\n",
      "(array([0., 0., 0., 1., 0., 0., 0., 0., 0., 0.]), array([0.07345431, 0.13754629, 0.04815096, 0.00107478, 0.00356977,\n",
      "       0.06902669, 0.00077831, 0.01179964, 0.01161021, 0.10352285],\n",
      "      dtype=float32))\n",
      "(array([0., 0., 0., 1., 0., 0., 0., 0., 0., 0.]), array([0.1732461 , 0.22555256, 0.08514893, 0.00647096, 0.00905115,\n",
      "       0.14279132, 0.00577912, 0.03125093, 0.03667509, 0.19167992],\n",
      "      dtype=float32))\n",
      "(array([0., 0., 0., 1., 0., 0., 0., 0., 0., 0.]), array([0.1766585 , 0.19673736, 0.10057791, 0.00766693, 0.01692591,\n",
      "       0.16945489, 0.00635595, 0.07496753, 0.04554022, 0.23022945],\n",
      "      dtype=float32))\n",
      "(array([0., 0., 0., 0., 1., 0., 0., 0., 0., 0.]), array([0.32071736, 0.3371292 , 0.34416497, 0.1719121 , 0.18141605,\n",
      "       0.34279266, 0.13798182, 0.2254886 , 0.22382642, 0.33592272],\n",
      "      dtype=float32))\n",
      "(array([0., 0., 0., 0., 1., 0., 0., 0., 0., 0.]), array([0.12612405, 0.14710636, 0.07428487, 0.00473582, 0.01776222,\n",
      "       0.08229615, 0.01131915, 0.04467162, 0.03033769, 0.20474671],\n",
      "      dtype=float32))\n",
      "(array([0., 0., 0., 0., 0., 1., 0., 0., 0., 0.]), array([0.16866733, 0.17187598, 0.0891387 , 0.01011345, 0.01135811,\n",
      "       0.1369319 , 0.00634857, 0.04594193, 0.04095469, 0.1585826 ],\n",
      "      dtype=float32))\n",
      "(array([0., 0., 0., 0., 0., 1., 0., 0., 0., 0.]), array([0.06871209, 0.14566286, 0.03175496, 0.00057339, 0.0014729 ,\n",
      "       0.02838304, 0.00028142, 0.0093573 , 0.00395901, 0.09447015],\n",
      "      dtype=float32))\n",
      "(array([0., 0., 0., 0., 0., 1., 0., 0., 0., 0.]), array([0.13611156, 0.0688298 , 0.03035409, 0.00183252, 0.00347633,\n",
      "       0.06512173, 0.00120224, 0.02656382, 0.00650707, 0.08133221],\n",
      "      dtype=float32))\n",
      "(array([0., 0., 0., 0., 0., 0., 1., 0., 0., 0.]), array([0.22418182, 0.26490363, 0.13184214, 0.02109451, 0.02760476,\n",
      "       0.17245606, 0.02245747, 0.07948025, 0.06067928, 0.22450472],\n",
      "      dtype=float32))\n",
      "(array([0., 0., 0., 0., 0., 0., 1., 0., 0., 0.]), array([0.11274274, 0.17491704, 0.06342758, 0.00401746, 0.00495348,\n",
      "       0.05458938, 0.00392207, 0.03036712, 0.0299761 , 0.14226183],\n",
      "      dtype=float32))\n",
      "(array([0., 0., 0., 0., 0., 0., 1., 0., 0., 0.]), array([0.18070075, 0.20881009, 0.06886411, 0.01294333, 0.01455414,\n",
      "       0.12228289, 0.00934253, 0.04993143, 0.04670443, 0.2081733 ],\n",
      "      dtype=float32))\n",
      "(array([0., 0., 0., 0., 0., 0., 0., 1., 0., 0.]), array([0.1812183 , 0.14812462, 0.08009073, 0.00758759, 0.00973484,\n",
      "       0.14591224, 0.00503329, 0.03018068, 0.04035026, 0.241334  ],\n",
      "      dtype=float32))\n",
      "(array([0., 0., 0., 0., 0., 0., 0., 0., 1., 0.]), array([0.11175963, 0.11951273, 0.03096055, 0.0010473 , 0.00072715,\n",
      "       0.02247655, 0.00045544, 0.00507982, 0.00638742, 0.08899426],\n",
      "      dtype=float32))\n",
      "(array([0., 0., 0., 0., 0., 0., 0., 0., 1., 0.]), array([0.2972934 , 0.25587764, 0.13174552, 0.03160591, 0.02598161,\n",
      "       0.19146928, 0.01512354, 0.04932747, 0.08301716, 0.21492441],\n",
      "      dtype=float32))\n",
      "Normalized balanced accuracy (2*BAC-1) = 0.1709.\n"
     ]
    }
   ],
   "source": [
    "from score import autodl_bac\n",
    "from libscores import read_array\n",
    "solution_file = join(data_dir, data_name + '.solution')\n",
    "solution = read_array(solution_file)\n",
    "current_bac = autodl_bac(solution, prediction)\n",
    "print('Number of test examples: %d \\n\\t\\t Solution \\t\\t\\t\\t\\t Prediction ' % len(solution))\n",
    "[print(z) for z in zip(solution, prediction)]\n",
    "print(\"Normalized balanced accuracy (2*BAC-1) = {:.4f}.\".format(current_bac))"
   ]
  },
  {
   "cell_type": "markdown",
   "metadata": {},
   "source": [
    "<div style=\"background:#cfdfff\">\n",
    "<h1> Step 5: Making a submission </h1> \n",
    "\n",
    "<h2> Unit testing </h2> \n",
    "\n",
    "It is <b><span style=\"color:red\">important that you test your submission files before submitting them</span></b>. All you have to do to make a submission is modify the file <code>model.py</code> in the <code>AutoDL_sample_code_submission/</code> directory, then run this test to make sure everything works fine. This is the actual program that will be run on the server to test your submission. \n",
    "</div>"
   ]
  },
  {
   "cell_type": "code",
   "execution_count": null,
   "metadata": {},
   "outputs": [
    {
     "name": "stdout",
     "output_type": "stream",
     "text": [
      "Run baseline. Date: 02/07/2019.\n",
      "SCORING INFO: 19-03-17 09:30:31 Cleaning existing score_dir: /app/codalab/AutoDL_scoring_output\n",
      "Traceback (most recent call last):\n",
      "  File \"/app/codalab/AutoDL_ingestion_program/ingestion.py\", line 238, in <module>\n",
      "    import model # participants' model.py\n",
      "  File \"AutoDL_sample_code_submission/model.py\", line 44, in <module>\n",
      "    raise ValueError(\"You need to git clone the GitHub repo \"\n",
      "ValueError: You need to git clone the GitHub repo at https://github.com/tensorflow/models, at the parallel level of autodl repo.\n"
     ]
    }
   ],
   "source": [
    "!python run_local_test.py -dataset_dir=$data_dir -code_dir=$model_dir"
   ]
  },
  {
   "cell_type": "markdown",
   "metadata": {},
   "source": [
    "<div style=\"background:#cfdfff\">\n",
    "    <h1> Preparing the submission </h1>\n",
    "\n",
    "Zip the contents of `AutoDL_sample_code_submission/` (without the directory).\n",
    "<b><span style=\"color:red\">Do NOT zip the data with your submissions</span></b>.\n",
    "</div>"
   ]
  },
  {
   "cell_type": "code",
   "execution_count": null,
   "metadata": {},
   "outputs": [],
   "source": [
    "import datetime \n",
    "from data_io import zipdir\n",
    "the_date = datetime.datetime.now().strftime(\"%y-%m-%d-%H-%M\")\n",
    "sample_code_submission = 'sample_code_submission_' + the_date + '.zip'\n",
    "zipdir(sample_code_submission, model_dir)\n",
    "print(\"Submit these file: \" + sample_code_submission)"
   ]
  },
  {
   "cell_type": "code",
   "execution_count": null,
   "metadata": {},
   "outputs": [],
   "source": []
  },
  {
   "cell_type": "code",
   "execution_count": null,
   "metadata": {},
   "outputs": [],
   "source": []
  }
 ],
 "metadata": {
  "kernelspec": {
   "display_name": "Python 3",
   "language": "python",
   "name": "python3"
  },
  "language_info": {
   "codemirror_mode": {
    "name": "ipython",
    "version": 3
   },
   "file_extension": ".py",
   "mimetype": "text/x-python",
   "name": "python",
   "nbconvert_exporter": "python",
   "pygments_lexer": "ipython3",
   "version": "3.5.2"
  }
 },
 "nbformat": 4,
 "nbformat_minor": 2
}
