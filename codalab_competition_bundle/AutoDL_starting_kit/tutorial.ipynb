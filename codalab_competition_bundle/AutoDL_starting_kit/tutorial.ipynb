{
 "cells": [
  {
   "cell_type": "markdown",
   "metadata": {},
   "source": [
    "<div><img src=\"autoCV_logo.png\" width=\"220\" ALIGN=\"left\" border=\"20\"></div>\n",
    "<center><font color=\"4466ff\"> <h1>AutoCV Challenge Tutorial </h1> </font></center>\n",
    "\n",
    "ALL INFORMATION, SOFTWARE, DOCUMENTATION, AND DATA ARE PROVIDED \"AS-IS\".\n",
    "UNIVERSITE PARIS SUD, INRIA, CHALEARN, AND/OR OTHER ORGANIZERS\n",
    "OR CODE AUTHORS DISCLAIM ANY EXPRESSED OR IMPLIED WARRANTIES."
   ]
  },
  {
   "cell_type": "markdown",
   "metadata": {},
   "source": [
    "# Before we start, you need to know that\n",
    "\n",
    "* We target applications of multi-label image classification. \n",
    "* Raw data are provided, in TF record format.  \n",
    "* We impose restrictions on training time and resources to push the state-of-the-art further.\n",
    "* This notebook uses sample data. Download larger datasets from the website of the challenge."
   ]
  },
  {
   "cell_type": "code",
   "execution_count": 90,
   "metadata": {
    "collapsed": true
   },
   "outputs": [],
   "source": [
    "from os.path import join\n",
    "\n",
    "import numpy as np\n",
    "import matplotlib.pyplot as plt\n",
    "\n",
    "%matplotlib inline"
   ]
  },
  {
   "cell_type": "code",
   "execution_count": 96,
   "metadata": {
    "collapsed": true
   },
   "outputs": [],
   "source": [
    "inges_dir = 'AutoDL_ingestion_program/'           # Codalab backend\n",
    "score_dir = 'AutoDL_scoring_program/'             # Scoring program \n",
    "model_dir = 'AutoDL_sample_code_submission/'      # Where model code is, called model.py\n",
    "baseline_dir = 'AutoDL_simple_baseline_models/'   # some baseline methods are implemented here\n",
    "\n",
    "output_dir = 'AutoDL_scoring_output'\n",
    "detailed_results_page = join(output_dir, 'detailed_results.html')\n",
    "\n",
    "from sys import path; \n",
    "path.append(model_dir); path.append(inges_dir); path.append(score_dir); path.append(baseline_dir);"
   ]
  },
  {
   "cell_type": "markdown",
   "metadata": {},
   "source": [
    "# Part 1: Dataset Overview"
   ]
  },
  {
   "cell_type": "markdown",
   "metadata": {},
   "source": [
    "<font color='red'>Let's start with a sample dataset miniciao, which can be found in <code>./AutoDL_sample_data/miniciao</code>"
   ]
  },
  {
   "cell_type": "code",
   "execution_count": 75,
   "metadata": {},
   "outputs": [
    {
     "name": "stdout",
     "output_type": "stream",
     "text": [
      "\u001b[34mMonkeys\u001b[m\u001b[m  \u001b[34mminiciao\u001b[m\u001b[m\r\n"
     ]
    }
   ],
   "source": [
    "data_dir = 'AutoDL_sample_data'            # Change this directory and the dataset as needed\n",
    "data_name = 'miniciao'\n",
    "!ls $data_dir"
   ]
  },
  {
   "cell_type": "code",
   "execution_count": 108,
   "metadata": {
    "collapsed": true
   },
   "outputs": [],
   "source": [
    "# read train / test datasets\n",
    "from dataset import AutoDLDataset\n",
    "D_train = AutoDLDataset(join(data_dir, data_name + '/' + data_name + '.data', \"train\"))\n",
    "D_test = AutoDLDataset(join(data_dir, data_name + '/' + data_name + '.data', \"test\"))"
   ]
  },
  {
   "cell_type": "code",
   "execution_count": 109,
   "metadata": {},
   "outputs": [
    {
     "name": "stdout",
     "output_type": "stream",
     "text": [
      "Dataset path:  AutoDL_sample_data/miniciao/miniciao.data/train\n",
      "Image shape:  (32, 32, 3)\n",
      "Dataset size:  82\n",
      "Output size:  10\n",
      "Class labels:  ['airplane', 'automobile', 'bird', 'cat', 'deer', 'dog', 'frog', 'horse', 'ship', 'truck']\n"
     ]
    }
   ],
   "source": [
    "# show important meta information about the dataset\n",
    "print (\"Dataset path: \", D_train.get_metadata().get_dataset_name())\n",
    "print (\"Image shape: \",  D_train.get_metadata().get_tensor_size(0))\n",
    "print (\"Dataset size: \", D_train.get_metadata().size())\n",
    "print (\"Output size: \",  D_train.get_metadata().get_output_size())\n",
    "print (\"Class labels: \", D_train.get_class_labels())"
   ]
  },
  {
   "cell_type": "code",
   "execution_count": 110,
   "metadata": {},
   "outputs": [
    {
     "data": {
      "image/png": "[encoded data removed]",
      "text/plain": [
       "<Figure size 432x288 with 1 Axes>"
      ]
     },
     "metadata": {
      "needs_background": "light"
     },
     "output_type": "display_data"
    },
    {
     "data": {
      "image/png": "[encoded data removed]",
      "text/plain": [
       "<Figure size 432x288 with 1 Axes>"
      ]
     },
     "metadata": {
      "needs_background": "light"
     },
     "output_type": "display_data"
    }
   ],
   "source": [
    "# show sample images\n",
    "D_train.show_image(1);\n",
    "D_train.show_image(11);"
   ]
  },
  {
   "cell_type": "markdown",
   "metadata": {},
   "source": [
    "<font color='red'>\n",
    "It should be noted that:\n",
    "    \n",
    "- in some datasets, the image shape is not fixed, i.e. some images are larger / smaller, when you get (-1, -1) as tensor size (image size) from meta information, it means that the image shapes are not identical in this dataset.\n",
    "- not all datasets have 3 channels\n",
    "- although this sample datset seems to have only one label for each image, it is not always true for other datsets.\n",
    "\n",
    "Thus, it depends on you to choose to adapt to different datasets. "
   ]
  },
  {
   "cell_type": "markdown",
   "metadata": {},
   "source": [
    "# Part 2: Model, Prediction and Metrics"
   ]
  },
  {
   "cell_type": "code",
   "execution_count": 111,
   "metadata": {
    "collapsed": true
   },
   "outputs": [],
   "source": [
    "# copy simple model\n",
    "model_simple = join(baseline_dir, 'linear', 'model.py') # choose one simple baseline model\n",
    "model_submit = join(model_dir, 'model.py') # submitted models must be called model.py\n",
    "!cp $model_simple $model_submit"
   ]
  },
  {
   "cell_type": "code",
   "execution_count": 112,
   "metadata": {},
   "outputs": [
    {
     "name": "stdout",
     "output_type": "stream",
     "text": [
      "MODEL INFO: 19-04-13 21:04:18 The dataset miniciao has 82 training examples and 10 classes.\n",
      "WARNING:tensorflow:Using temporary folder as model directory: /var/folders/66/p9f_j7fj2s39n_lfskyb22sm0000gn/T/tmpz_lp2c0c\n",
      "INFO:tensorflow:Using config: {'_model_dir': '/var/folders/66/p9f_j7fj2s39n_lfskyb22sm0000gn/T/tmpz_lp2c0c', '_tf_random_seed': None, '_save_summary_steps': 100, '_save_checkpoints_steps': None, '_save_checkpoints_secs': 600, '_session_config': , '_keep_checkpoint_max': 5, '_keep_checkpoint_every_n_hours': 10000, '_log_step_count_steps': 100, '_train_distribute': None, '_device_fn': None, '_protocol': None, '_eval_distribute': None, '_experimental_distribute': None, '_service': None, '_cluster_spec': <tensorflow.python.training.server_lib.ClusterSpec object at 0x1a2dc5d710>, '_task_type': 'worker', '_task_id': 0, '_global_id_in_cluster': 0, '_master': '', '_evaluation_master': '', '_is_chief': True, '_num_ps_replicas': 0, '_num_worker_replicas': 1}\n"
     ]
    }
   ],
   "source": [
    "# set time budget and instanciate the model with dataset\n",
    "from model import Model\n",
    "time_budget=200\n",
    "M = Model(D_train.get_metadata())"
   ]
  },
  {
   "cell_type": "code",
   "execution_count": 113,
   "metadata": {},
   "outputs": [
    {
     "name": "stdout",
     "output_type": "stream",
     "text": [
      "MODEL INFO: 19-04-13 21:04:30 Begin training for another 10 steps...\n",
      "MODEL INFO: 19-04-13 21:04:30 Tensor shape before preprocessing: (1, 32, 32, 3)\n",
      "MODEL INFO: 19-04-13 21:04:30 Tensor shape after preprocessing: (1, 32, 32, 3)\n",
      "WARNING:tensorflow:The graph (<tensorflow.python.framework.ops.Graph object at 0x1a2dc5da58>) of the iterator is different from the graph (<tensorflow.python.framework.ops.Graph object at 0xb29df9b70>) the dataset: <DatasetV1Adapter shapes: ((1, 32, 32, 3), (10,)), types: (tf.float32, tf.float32)> was created in. If you are using the Estimator API, make sure that no part of the dataset returned by the `input_fn` function is defined outside the `input_fn` function.Please ensure that all datasets in the pipeline are created in the same graph as the iterator. NOTE: This warning will become an error in future versions of TensorFlow.\n",
      "WARNING:tensorflow:The graph (<tensorflow.python.framework.ops.Graph object at 0x1a2dc5da58>) of the iterator is different from the graph (<tensorflow.python.framework.ops.Graph object at 0xb29df9b70>) the dataset: <TFRecordDatasetV1 shapes: (), types: tf.string> was created in. If you are using the Estimator API, make sure that no part of the dataset returned by the `input_fn` function is defined outside the `input_fn` function.Please ensure that all datasets in the pipeline are created in the same graph as the iterator. NOTE: This warning will become an error in future versions of TensorFlow.\n",
      "WARNING:tensorflow:The graph (<tensorflow.python.framework.ops.Graph object at 0x1a2dc5da58>) of the iterator is different from the graph (<tensorflow.python.framework.ops.Graph object at 0xb29df9b70>) the dataset: <TensorSliceDataset shapes: (), types: tf.string> was created in. If you are using the Estimator API, make sure that no part of the dataset returned by the `input_fn` function is defined outside the `input_fn` function.Please ensure that all datasets in the pipeline are created in the same graph as the iterator. NOTE: This warning will become an error in future versions of TensorFlow.\n",
      "INFO:tensorflow:Calling model_fn.\n",
      "INFO:tensorflow:Done calling model_fn.\n",
      "INFO:tensorflow:Create CheckpointSaverHook.\n",
      "INFO:tensorflow:Graph was finalized.\n",
      "INFO:tensorflow:Running local_init_op.\n",
      "INFO:tensorflow:Done running local_init_op.\n",
      "INFO:tensorflow:Saving checkpoints for 0 into /var/folders/66/p9f_j7fj2s39n_lfskyb22sm0000gn/T/tmpz_lp2c0c/model.ckpt.\n",
      "INFO:tensorflow:loss = 245.6724, step = 1\n",
      "INFO:tensorflow:Saving checkpoints for 10 into /var/folders/66/p9f_j7fj2s39n_lfskyb22sm0000gn/T/tmpz_lp2c0c/model.ckpt.\n",
      "INFO:tensorflow:Loss for final step: 123.134125.\n",
      "MODEL INFO: 19-04-13 21:04:31 10 steps trained. 0.96 sec used. Now total steps trained: 10. Total time used for training: 0.96 sec. Current estimated time per step: 9.60e-02 sec.\n"
     ]
    }
   ],
   "source": [
    "# train the model for a certain time\n",
    "M.train(D_train.get_dataset(), remaining_time_budget=time_budget)"
   ]
  },
  {
   "cell_type": "code",
   "execution_count": 114,
   "metadata": {},
   "outputs": [
    {
     "name": "stdout",
     "output_type": "stream",
     "text": [
      "MODEL INFO: 19-04-13 21:04:40 Model already trained for 3.658536585365854 epochs.\n",
      "MODEL INFO: 19-04-13 21:04:40 Begin testing... \n",
      "MODEL INFO: 19-04-13 21:04:40 Tensor shape before preprocessing: (1, 32, 32, 3)\n",
      "MODEL INFO: 19-04-13 21:04:40 Tensor shape after preprocessing: (1, 32, 32, 3)\n",
      "WARNING:tensorflow:The graph (<tensorflow.python.framework.ops.Graph object at 0x1a2dd10240>) of the iterator is different from the graph (<tensorflow.python.framework.ops.Graph object at 0xb29df9b70>) the dataset: <DatasetV1Adapter shapes: ((1, 32, 32, 3), (10,)), types: (tf.float32, tf.float32)> was created in. If you are using the Estimator API, make sure that no part of the dataset returned by the `input_fn` function is defined outside the `input_fn` function.Please ensure that all datasets in the pipeline are created in the same graph as the iterator. NOTE: This warning will become an error in future versions of TensorFlow.\n",
      "WARNING:tensorflow:The graph (<tensorflow.python.framework.ops.Graph object at 0x1a2dd10240>) of the iterator is different from the graph (<tensorflow.python.framework.ops.Graph object at 0xb29df9b70>) the dataset: <TFRecordDatasetV1 shapes: (), types: tf.string> was created in. If you are using the Estimator API, make sure that no part of the dataset returned by the `input_fn` function is defined outside the `input_fn` function.Please ensure that all datasets in the pipeline are created in the same graph as the iterator. NOTE: This warning will become an error in future versions of TensorFlow.\n",
      "WARNING:tensorflow:The graph (<tensorflow.python.framework.ops.Graph object at 0x1a2dd10240>) of the iterator is different from the graph (<tensorflow.python.framework.ops.Graph object at 0xb29df9b70>) the dataset: <TensorSliceDataset shapes: (), types: tf.string> was created in. If you are using the Estimator API, make sure that no part of the dataset returned by the `input_fn` function is defined outside the `input_fn` function.Please ensure that all datasets in the pipeline are created in the same graph as the iterator. NOTE: This warning will become an error in future versions of TensorFlow.\n",
      "INFO:tensorflow:Calling model_fn.\n",
      "INFO:tensorflow:Done calling model_fn.\n",
      "INFO:tensorflow:Graph was finalized.\n",
      "INFO:tensorflow:Restoring parameters from /var/folders/66/p9f_j7fj2s39n_lfskyb22sm0000gn/T/tmpz_lp2c0c/model.ckpt-10\n",
      "INFO:tensorflow:Running local_init_op.\n",
      "INFO:tensorflow:Done running local_init_op.\n",
      "MODEL INFO: 19-04-13 21:04:40 Asserting predictions have the same number of columns...\n",
      "MODEL INFO: 19-04-13 21:04:40 [+] Successfully made one prediction. 0.49 sec used. Total time used for testing: 0.49 sec. Current estimated time for test: 4.93e-01 sec.\n"
     ]
    }
   ],
   "source": [
    "# get prediction by calling test method\n",
    "prediction = M.test(D_test.get_dataset(), remaining_time_budget=time_budget)"
   ]
  },
  {
   "cell_type": "markdown",
   "metadata": {},
   "source": [
    "<font color='red'> For each prediction made at a timestamp, we compute for each (binary) class the balanced accuracy (**BAC**), then normalize it (and average over all classes) by: \n",
    "\\begin{equation*}\n",
    "BAC = \\frac{1}{2} (TPR + TNR), \\quad NBAC = 2 \\times BAC - 1,\n",
    "\\end{equation*}\n",
    "\n",
    "where **TPR** and **TNR** stand for true positive rate and true negative rate, respectively. Then, the learning curve can be plot as a function of **NBAC** vs. time. The timestamps T are in **log scale**, such that the start time $T_0$ is at 0 and end time $T_{\\text{max}}$ is at 1.  Then we compute **ALC** as follows:\n",
    "\n",
    "\\begin{equation*}\n",
    "    ALC = \\text{trapez}(T, NBAC),\n",
    "\\end{equation*}\n",
    "\n",
    "where trapez method is used to compute the area under the curve formed by drawing straight lines between consecutive points. This gives the evaluation score used for one task. Later, when ALC score is computed for all tasks, the final score is obtained by the average rank (over all tasks). It should be emphasized that multi-class classification metrics are not being considered, i.e., each class is scored independently."
   ]
  },
  {
   "cell_type": "code",
   "execution_count": 116,
   "metadata": {},
   "outputs": [
    {
     "name": "stdout",
     "output_type": "stream",
     "text": [
      "Classification Accuracy:  0.06392973291480707\n",
      "Normalized balanced accuracy (NBAC) = 0.1914.\n",
      "ALC can be read from the result page as shown in the next part.\n"
     ]
    }
   ],
   "source": [
    "# calculate scores\n",
    "from score import autodl_bac, accuracy\n",
    "from libscores import read_array\n",
    "solution_file = join(data_dir, data_name + '/' + data_name + '.solution')\n",
    "solution = read_array(solution_file)\n",
    "\n",
    "acc = accuracy(solution, prediction) # note that accuracy is not evaluation metric in the challenge\n",
    "current_bac = autodl_bac(solution, prediction)\n",
    "# print('Number of test examples: %d \\n\\t\\t Solution \\t\\t\\t\\t\\t Prediction ' % len(solution))\n",
    "# [print(z) for z in zip(solution, prediction)]\n",
    "print (\"Classification Accuracy: \", acc)\n",
    "print (\"Normalized balanced accuracy (NBAC) = {:.4f}.\".format(current_bac))\n",
    "print (\"ALC can be read from the result page as shown in the next part.\")"
   ]
  },
  {
   "cell_type": "markdown",
   "metadata": {},
   "source": [
    "# Part 3: Test and Submission"
   ]
  },
  {
   "cell_type": "markdown",
   "metadata": {},
   "source": [
    "<font color='red'>\n",
    "    It is important that you test your submission files before submitting them. All you have to do to make a submission is modify the file <code>model.py</code> in the <code>AutoDL_sample_code_submission/</code> directory, then run this test to make sure everything works fine. This is the actual program that will be run on the server to test your submission. "
   ]
  },
  {
   "cell_type": "code",
   "execution_count": 71,
   "metadata": {
    "scrolled": true
   },
   "outputs": [
    {
     "name": "stdout",
     "output_type": "stream",
     "text": [
      "SCORING INFO: 19-04-13 20:09:07 Cleaning existing score_dir: /Users/zhen/Desktop/autodl_starting_kit_stable/AutoDL_scoring_output\n",
      "SCORING INFO: 19-04-13 20:09:07 Start scoring program at Sat Apr 13 20:09:07 2019\n",
      "INGESTION INFO: 19-04-13 20:09:09 Cleaning existing output_dir: /Users/zhen/Desktop/autodl_starting_kit_stable/AutoDL_sample_result_submission\n",
      "INGESTION INFO: 19-04-13 20:09:09 ========== Ingestion program version 1 ==========\n",
      "INGESTION INFO: 19-04-13 20:09:09 ************************************************\n",
      "INGESTION INFO: 19-04-13 20:09:09 ******** Processing dataset Miniciao ********\n",
      "INGESTION INFO: 19-04-13 20:09:09 ************************************************\n",
      "INGESTION INFO: 19-04-13 20:09:09 Reading training set and test set...\n",
      "WARNING:tensorflow:From /Users/zhen/Documents/miniconda3/envs/py37/lib/python3.7/site-packages/tensorflow/python/ops/tensor_array_ops.py:162: colocate_with (from tensorflow.python.framework.ops) is deprecated and will be removed in a future version.\n",
      "Instructions for updating:\n",
      "Colocations handled automatically by placer.\n",
      "WARNING:tensorflow:From /Users/zhen/Desktop/autodl_starting_kit_stable/AutoDL_ingestion_program/dataset.py:232: sparse_to_dense (from tensorflow.python.ops.sparse_ops) is deprecated and will be removed in a future version.\n",
      "Instructions for updating:\n",
      "Create a `tf.sparse.SparseTensor` and use `tf.sparse.to_dense` instead.\n",
      "INGESTION INFO: 19-04-13 20:09:09 Creating model...\n",
      "MODEL INFO: 19-04-13 20:09:09 The dataset miniciao has 82 training examples and 10 classes.\n",
      "WARNING:tensorflow:Using temporary folder as model directory: /var/folders/66/p9f_j7fj2s39n_lfskyb22sm0000gn/T/tmp1hmbklm4\n",
      "INGESTION INFO: 19-04-13 20:09:09 Training the model...\n",
      "MODEL INFO: 19-04-13 20:09:09 Begin training for another 10 steps...\n",
      "MODEL INFO: 19-04-13 20:09:09 Tensor shape before preprocessing: (1, 32, 32, 3)\n",
      "MODEL INFO: 19-04-13 20:09:09 Tensor shape after preprocessing: (1, 32, 32, 3)\n",
      "WARNING:tensorflow:The graph (<tensorflow.python.framework.ops.Graph object at 0x1a273576a0>) of the iterator is different from the graph (<tensorflow.python.framework.ops.Graph object at 0x1a250a5a58>) the dataset: <DatasetV1Adapter shapes: ((1, 32, 32, 3), (10,)), types: (tf.float32, tf.float32)> was created in. If you are using the Estimator API, make sure that no part of the dataset returned by the `input_fn` function is defined outside the `input_fn` function.Please ensure that all datasets in the pipeline are created in the same graph as the iterator. NOTE: This warning will become an error in future versions of TensorFlow.\n",
      "WARNING:tensorflow:The graph (<tensorflow.python.framework.ops.Graph object at 0x1a273576a0>) of the iterator is different from the graph (<tensorflow.python.framework.ops.Graph object at 0x1a250a5a58>) the dataset: <TFRecordDatasetV1 shapes: (), types: tf.string> was created in. If you are using the Estimator API, make sure that no part of the dataset returned by the `input_fn` function is defined outside the `input_fn` function.Please ensure that all datasets in the pipeline are created in the same graph as the iterator. NOTE: This warning will become an error in future versions of TensorFlow.\n",
      "WARNING:tensorflow:The graph (<tensorflow.python.framework.ops.Graph object at 0x1a273576a0>) of the iterator is different from the graph (<tensorflow.python.framework.ops.Graph object at 0x1a250a5a58>) the dataset: <TensorSliceDataset shapes: (), types: tf.string> was created in. If you are using the Estimator API, make sure that no part of the dataset returned by the `input_fn` function is defined outside the `input_fn` function.Please ensure that all datasets in the pipeline are created in the same graph as the iterator. NOTE: This warning will become an error in future versions of TensorFlow.\n",
      "WARNING:tensorflow:From ./AutoDL_sample_code_submission/model.py:244: flatten (from tensorflow.python.layers.core) is deprecated and will be removed in a future version.\n",
      "Instructions for updating:\n",
      "Use keras.layers.flatten instead.\n",
      "WARNING:tensorflow:From ./AutoDL_sample_code_submission/model.py:246: dense (from tensorflow.python.layers.core) is deprecated and will be removed in a future version.\n",
      "Instructions for updating:\n",
      "Use keras.layers.dense instead.\n",
      "2019-04-13 20:09:09.499926: I tensorflow/core/platform/cpu_feature_guard.cc:141] Your CPU supports instructions that this TensorFlow binary was not compiled to use: AVX2 FMA\n",
      "MODEL INFO: 19-04-13 20:09:10 10 steps trained. 0.98 sec used. Now total steps trained: 10. Total time used for training: 0.98 sec. Current estimated time per step: 9.79e-02 sec.\n",
      "MODEL INFO: 19-04-13 20:09:10 Model already trained for 3.658536585365854 epochs.\n",
      "MODEL INFO: 19-04-13 20:09:10 Begin testing... \n",
      "MODEL INFO: 19-04-13 20:09:10 Tensor shape before preprocessing: (1, 32, 32, 3)\n",
      "MODEL INFO: 19-04-13 20:09:10 Tensor shape after preprocessing: (1, 32, 32, 3)\n",
      "WARNING:tensorflow:The graph (<tensorflow.python.framework.ops.Graph object at 0x1a27391e80>) of the iterator is different from the graph (<tensorflow.python.framework.ops.Graph object at 0x1a250a5a58>) the dataset: <DatasetV1Adapter shapes: ((1, 32, 32, 3), (10,)), types: (tf.float32, tf.float32)> was created in. If you are using the Estimator API, make sure that no part of the dataset returned by the `input_fn` function is defined outside the `input_fn` function.Please ensure that all datasets in the pipeline are created in the same graph as the iterator. NOTE: This warning will become an error in future versions of TensorFlow.\n",
      "WARNING:tensorflow:The graph (<tensorflow.python.framework.ops.Graph object at 0x1a27391e80>) of the iterator is different from the graph (<tensorflow.python.framework.ops.Graph object at 0x1a250a5a58>) the dataset: <TFRecordDatasetV1 shapes: (), types: tf.string> was created in. If you are using the Estimator API, make sure that no part of the dataset returned by the `input_fn` function is defined outside the `input_fn` function.Please ensure that all datasets in the pipeline are created in the same graph as the iterator. NOTE: This warning will become an error in future versions of TensorFlow.\n",
      "WARNING:tensorflow:The graph (<tensorflow.python.framework.ops.Graph object at 0x1a27391e80>) of the iterator is different from the graph (<tensorflow.python.framework.ops.Graph object at 0x1a250a5a58>) the dataset: <TensorSliceDataset shapes: (), types: tf.string> was created in. If you are using the Estimator API, make sure that no part of the dataset returned by the `input_fn` function is defined outside the `input_fn` function.Please ensure that all datasets in the pipeline are created in the same graph as the iterator. NOTE: This warning will become an error in future versions of TensorFlow.\n",
      "WARNING:tensorflow:From /Users/zhen/Documents/miniconda3/envs/py37/lib/python3.7/site-packages/tensorflow/python/training/saver.py:1266: checkpoint_exists (from tensorflow.python.training.checkpoint_management) is deprecated and will be removed in a future version.\n",
      "Instructions for updating:\n",
      "Use standard file APIs to check for files with this prefix.\n",
      "MODEL INFO: 19-04-13 20:09:10 Asserting predictions have the same number of columns...\n",
      "MODEL INFO: 19-04-13 20:09:10 [+] Successfully made one prediction. 0.29 sec used. Total time used for testing: 0.29 sec. Current estimated time for test: 2.88e-01 sec.\n",
      "INGESTION INFO: 19-04-13 20:09:10 [+] Prediction success, time spent so far  1.27 sec\n",
      "INGESTION INFO: 19-04-13 20:09:10 [+] Time left 7198.73 sec\n",
      "INGESTION INFO: 19-04-13 20:09:10 Training the model...\n",
      "MODEL INFO: 19-04-13 20:09:10 Begin training for another 2 steps...estimated time for this: 0.20 sec.\n",
      "MODEL INFO: 19-04-13 20:09:10 Tensor shape before preprocessing: (1, 32, 32, 3)\n",
      "MODEL INFO: 19-04-13 20:09:10 Tensor shape after preprocessing: (1, 32, 32, 3)\n",
      "WARNING:tensorflow:The graph (<tensorflow.python.framework.ops.Graph object at 0x1a2782ffd0>) of the iterator is different from the graph (<tensorflow.python.framework.ops.Graph object at 0x1a250a5a58>) the dataset: <DatasetV1Adapter shapes: ((1, 32, 32, 3), (10,)), types: (tf.float32, tf.float32)> was created in. If you are using the Estimator API, make sure that no part of the dataset returned by the `input_fn` function is defined outside the `input_fn` function.Please ensure that all datasets in the pipeline are created in the same graph as the iterator. NOTE: This warning will become an error in future versions of TensorFlow.\n",
      "WARNING:tensorflow:The graph (<tensorflow.python.framework.ops.Graph object at 0x1a2782ffd0>) of the iterator is different from the graph (<tensorflow.python.framework.ops.Graph object at 0x1a250a5a58>) the dataset: <TFRecordDatasetV1 shapes: (), types: tf.string> was created in. If you are using the Estimator API, make sure that no part of the dataset returned by the `input_fn` function is defined outside the `input_fn` function.Please ensure that all datasets in the pipeline are created in the same graph as the iterator. NOTE: This warning will become an error in future versions of TensorFlow.\n",
      "WARNING:tensorflow:The graph (<tensorflow.python.framework.ops.Graph object at 0x1a2782ffd0>) of the iterator is different from the graph (<tensorflow.python.framework.ops.Graph object at 0x1a250a5a58>) the dataset: <TensorSliceDataset shapes: (), types: tf.string> was created in. If you are using the Estimator API, make sure that no part of the dataset returned by the `input_fn` function is defined outside the `input_fn` function.Please ensure that all datasets in the pipeline are created in the same graph as the iterator. NOTE: This warning will become an error in future versions of TensorFlow.\n"
     ]
    },
    {
     "name": "stdout",
     "output_type": "stream",
     "text": [
      "WARNING:tensorflow:From /Users/zhen/Documents/miniconda3/envs/py37/lib/python3.7/site-packages/tensorflow/python/training/saver.py:1070: get_checkpoint_mtimes (from tensorflow.python.training.checkpoint_management) is deprecated and will be removed in a future version.\n",
      "Instructions for updating:\n",
      "Use standard file utilities to get mtimes.\n",
      "SCORING INFO: 19-04-13 20:09:10 [+] New prediction found. Now number of predictions made = 1\n",
      "SCORING INFO: 19-04-13 20:09:10 NBAC (2 * BAC - 1) of the latest prediction is 0.1817.\n",
      "SCORING INFO: 19-04-13 20:09:10 Accuracy of the latest prediction is 0.0689.\n",
      "SCORING INFO: 19-04-13 20:09:11 Current area under learning curve for miniciao: 0.1577\n",
      "MODEL INFO: 19-04-13 20:09:11 2 steps trained. 0.80 sec used. Now total steps trained: 12. Total time used for training: 1.78 sec. Current estimated time per step: 1.48e-01 sec.\n",
      "MODEL INFO: 19-04-13 20:09:11 Model already trained for 4.390243902439025 epochs.\n",
      "MODEL INFO: 19-04-13 20:09:11 Begin testing... estimated time: 2.88e-01 sec.\n",
      "MODEL INFO: 19-04-13 20:09:11 Tensor shape before preprocessing: (1, 32, 32, 3)\n",
      "MODEL INFO: 19-04-13 20:09:11 Tensor shape after preprocessing: (1, 32, 32, 3)\n",
      "WARNING:tensorflow:The graph (<tensorflow.python.framework.ops.Graph object at 0x1a2782fba8>) of the iterator is different from the graph (<tensorflow.python.framework.ops.Graph object at 0x1a250a5a58>) the dataset: <DatasetV1Adapter shapes: ((1, 32, 32, 3), (10,)), types: (tf.float32, tf.float32)> was created in. If you are using the Estimator API, make sure that no part of the dataset returned by the `input_fn` function is defined outside the `input_fn` function.Please ensure that all datasets in the pipeline are created in the same graph as the iterator. NOTE: This warning will become an error in future versions of TensorFlow.\n",
      "WARNING:tensorflow:The graph (<tensorflow.python.framework.ops.Graph object at 0x1a2782fba8>) of the iterator is different from the graph (<tensorflow.python.framework.ops.Graph object at 0x1a250a5a58>) the dataset: <TFRecordDatasetV1 shapes: (), types: tf.string> was created in. If you are using the Estimator API, make sure that no part of the dataset returned by the `input_fn` function is defined outside the `input_fn` function.Please ensure that all datasets in the pipeline are created in the same graph as the iterator. NOTE: This warning will become an error in future versions of TensorFlow.\n",
      "WARNING:tensorflow:The graph (<tensorflow.python.framework.ops.Graph object at 0x1a2782fba8>) of the iterator is different from the graph (<tensorflow.python.framework.ops.Graph object at 0x1a250a5a58>) the dataset: <TensorSliceDataset shapes: (), types: tf.string> was created in. If you are using the Estimator API, make sure that no part of the dataset returned by the `input_fn` function is defined outside the `input_fn` function.Please ensure that all datasets in the pipeline are created in the same graph as the iterator. NOTE: This warning will become an error in future versions of TensorFlow.\n",
      "MODEL INFO: 19-04-13 20:09:11 Asserting predictions have the same number of columns...\n",
      "MODEL INFO: 19-04-13 20:09:11 [+] Successfully made one prediction. 0.26 sec used. Total time used for testing: 0.55 sec. Current estimated time for test: 2.74e-01 sec.\n",
      "INGESTION INFO: 19-04-13 20:09:11 [+] Prediction success, time spent so far  2.33 sec\n",
      "INGESTION INFO: 19-04-13 20:09:11 [+] Time left 7197.67 sec\n",
      "INGESTION INFO: 19-04-13 20:09:11 Training the model...\n",
      "MODEL INFO: 19-04-13 20:09:11 Begin training for another 4 steps...estimated time for this: 0.59 sec.\n",
      "MODEL INFO: 19-04-13 20:09:11 Tensor shape before preprocessing: (1, 32, 32, 3)\n",
      "MODEL INFO: 19-04-13 20:09:11 Tensor shape after preprocessing: (1, 32, 32, 3)\n",
      "WARNING:tensorflow:The graph (<tensorflow.python.framework.ops.Graph object at 0x1a284619b0>) of the iterator is different from the graph (<tensorflow.python.framework.ops.Graph object at 0x1a250a5a58>) the dataset: <DatasetV1Adapter shapes: ((1, 32, 32, 3), (10,)), types: (tf.float32, tf.float32)> was created in. If you are using the Estimator API, make sure that no part of the dataset returned by the `input_fn` function is defined outside the `input_fn` function.Please ensure that all datasets in the pipeline are created in the same graph as the iterator. NOTE: This warning will become an error in future versions of TensorFlow.\n",
      "WARNING:tensorflow:The graph (<tensorflow.python.framework.ops.Graph object at 0x1a284619b0>) of the iterator is different from the graph (<tensorflow.python.framework.ops.Graph object at 0x1a250a5a58>) the dataset: <TFRecordDatasetV1 shapes: (), types: tf.string> was created in. If you are using the Estimator API, make sure that no part of the dataset returned by the `input_fn` function is defined outside the `input_fn` function.Please ensure that all datasets in the pipeline are created in the same graph as the iterator. NOTE: This warning will become an error in future versions of TensorFlow.\n",
      "WARNING:tensorflow:The graph (<tensorflow.python.framework.ops.Graph object at 0x1a284619b0>) of the iterator is different from the graph (<tensorflow.python.framework.ops.Graph object at 0x1a250a5a58>) the dataset: <TensorSliceDataset shapes: (), types: tf.string> was created in. If you are using the Estimator API, make sure that no part of the dataset returned by the `input_fn` function is defined outside the `input_fn` function.Please ensure that all datasets in the pipeline are created in the same graph as the iterator. NOTE: This warning will become an error in future versions of TensorFlow.\n",
      "SCORING INFO: 19-04-13 20:09:11 [+] New prediction found. Now number of predictions made = 2\n",
      "SCORING INFO: 19-04-13 20:09:11 NBAC (2 * BAC - 1) of the latest prediction is 0.1689.\n",
      "SCORING INFO: 19-04-13 20:09:11 Accuracy of the latest prediction is 0.0652.\n",
      "SCORING INFO: 19-04-13 20:09:11 Current area under learning curve for miniciao: 0.1473\n",
      "MODEL INFO: 19-04-13 20:09:12 4 steps trained. 0.81 sec used. Now total steps trained: 16. Total time used for training: 2.59 sec. Current estimated time per step: 1.62e-01 sec.\n",
      "MODEL INFO: 19-04-13 20:09:12 Model already trained for 5.853658536585366 epochs.\n",
      "MODEL INFO: 19-04-13 20:09:12 Begin testing... estimated time: 2.74e-01 sec.\n",
      "MODEL INFO: 19-04-13 20:09:12 Tensor shape before preprocessing: (1, 32, 32, 3)\n",
      "MODEL INFO: 19-04-13 20:09:12 Tensor shape after preprocessing: (1, 32, 32, 3)\n",
      "WARNING:tensorflow:The graph (<tensorflow.python.framework.ops.Graph object at 0x1a2856a9e8>) of the iterator is different from the graph (<tensorflow.python.framework.ops.Graph object at 0x1a250a5a58>) the dataset: <DatasetV1Adapter shapes: ((1, 32, 32, 3), (10,)), types: (tf.float32, tf.float32)> was created in. If you are using the Estimator API, make sure that no part of the dataset returned by the `input_fn` function is defined outside the `input_fn` function.Please ensure that all datasets in the pipeline are created in the same graph as the iterator. NOTE: This warning will become an error in future versions of TensorFlow.\n",
      "WARNING:tensorflow:The graph (<tensorflow.python.framework.ops.Graph object at 0x1a2856a9e8>) of the iterator is different from the graph (<tensorflow.python.framework.ops.Graph object at 0x1a250a5a58>) the dataset: <TFRecordDatasetV1 shapes: (), types: tf.string> was created in. If you are using the Estimator API, make sure that no part of the dataset returned by the `input_fn` function is defined outside the `input_fn` function.Please ensure that all datasets in the pipeline are created in the same graph as the iterator. NOTE: This warning will become an error in future versions of TensorFlow.\n",
      "WARNING:tensorflow:The graph (<tensorflow.python.framework.ops.Graph object at 0x1a2856a9e8>) of the iterator is different from the graph (<tensorflow.python.framework.ops.Graph object at 0x1a250a5a58>) the dataset: <TensorSliceDataset shapes: (), types: tf.string> was created in. If you are using the Estimator API, make sure that no part of the dataset returned by the `input_fn` function is defined outside the `input_fn` function.Please ensure that all datasets in the pipeline are created in the same graph as the iterator. NOTE: This warning will become an error in future versions of TensorFlow.\n"
     ]
    },
    {
     "name": "stdout",
     "output_type": "stream",
     "text": [
      "MODEL INFO: 19-04-13 20:09:12 Asserting predictions have the same number of columns...\n",
      "MODEL INFO: 19-04-13 20:09:12 [+] Successfully made one prediction. 0.26 sec used. Total time used for testing: 0.81 sec. Current estimated time for test: 2.69e-01 sec.\n",
      "INGESTION INFO: 19-04-13 20:09:12 [+] Prediction success, time spent so far  3.40 sec\n",
      "INGESTION INFO: 19-04-13 20:09:12 [+] Time left 7196.60 sec\n",
      "INGESTION INFO: 19-04-13 20:09:12 Training the model...\n",
      "MODEL INFO: 19-04-13 20:09:12 Begin training for another 8 steps...estimated time for this: 1.29 sec.\n",
      "MODEL INFO: 19-04-13 20:09:12 Tensor shape before preprocessing: (1, 32, 32, 3)\n",
      "MODEL INFO: 19-04-13 20:09:12 Tensor shape after preprocessing: (1, 32, 32, 3)\n",
      "WARNING:tensorflow:The graph (<tensorflow.python.framework.ops.Graph object at 0x1a271affd0>) of the iterator is different from the graph (<tensorflow.python.framework.ops.Graph object at 0x1a250a5a58>) the dataset: <DatasetV1Adapter shapes: ((1, 32, 32, 3), (10,)), types: (tf.float32, tf.float32)> was created in. If you are using the Estimator API, make sure that no part of the dataset returned by the `input_fn` function is defined outside the `input_fn` function.Please ensure that all datasets in the pipeline are created in the same graph as the iterator. NOTE: This warning will become an error in future versions of TensorFlow.\n",
      "WARNING:tensorflow:The graph (<tensorflow.python.framework.ops.Graph object at 0x1a271affd0>) of the iterator is different from the graph (<tensorflow.python.framework.ops.Graph object at 0x1a250a5a58>) the dataset: <TFRecordDatasetV1 shapes: (), types: tf.string> was created in. If you are using the Estimator API, make sure that no part of the dataset returned by the `input_fn` function is defined outside the `input_fn` function.Please ensure that all datasets in the pipeline are created in the same graph as the iterator. NOTE: This warning will become an error in future versions of TensorFlow.\n",
      "WARNING:tensorflow:The graph (<tensorflow.python.framework.ops.Graph object at 0x1a271affd0>) of the iterator is different from the graph (<tensorflow.python.framework.ops.Graph object at 0x1a250a5a58>) the dataset: <TensorSliceDataset shapes: (), types: tf.string> was created in. If you are using the Estimator API, make sure that no part of the dataset returned by the `input_fn` function is defined outside the `input_fn` function.Please ensure that all datasets in the pipeline are created in the same graph as the iterator. NOTE: This warning will become an error in future versions of TensorFlow.\n",
      "SCORING INFO: 19-04-13 20:09:12 [+] New prediction found. Now number of predictions made = 3\n",
      "SCORING INFO: 19-04-13 20:09:12 NBAC (2 * BAC - 1) of the latest prediction is 0.1718.\n",
      "SCORING INFO: 19-04-13 20:09:12 Accuracy of the latest prediction is 0.0749.\n",
      "SCORING INFO: 19-04-13 20:09:13 Current area under learning curve for miniciao: 0.1497\n",
      "MODEL INFO: 19-04-13 20:09:13 8 steps trained. 0.84 sec used. Now total steps trained: 24. Total time used for training: 3.43 sec. Current estimated time per step: 1.43e-01 sec.\n",
      "MODEL INFO: 19-04-13 20:09:13 Model already trained for 8.78048780487805 epochs.\n",
      "MODEL INFO: 19-04-13 20:09:13 Begin testing... estimated time: 2.69e-01 sec.\n",
      "MODEL INFO: 19-04-13 20:09:13 Tensor shape before preprocessing: (1, 32, 32, 3)\n",
      "MODEL INFO: 19-04-13 20:09:13 Tensor shape after preprocessing: (1, 32, 32, 3)\n",
      "WARNING:tensorflow:The graph (<tensorflow.python.framework.ops.Graph object at 0x1a285fffd0>) of the iterator is different from the graph (<tensorflow.python.framework.ops.Graph object at 0x1a250a5a58>) the dataset: <DatasetV1Adapter shapes: ((1, 32, 32, 3), (10,)), types: (tf.float32, tf.float32)> was created in. If you are using the Estimator API, make sure that no part of the dataset returned by the `input_fn` function is defined outside the `input_fn` function.Please ensure that all datasets in the pipeline are created in the same graph as the iterator. NOTE: This warning will become an error in future versions of TensorFlow.\n",
      "WARNING:tensorflow:The graph (<tensorflow.python.framework.ops.Graph object at 0x1a285fffd0>) of the iterator is different from the graph (<tensorflow.python.framework.ops.Graph object at 0x1a250a5a58>) the dataset: <TFRecordDatasetV1 shapes: (), types: tf.string> was created in. If you are using the Estimator API, make sure that no part of the dataset returned by the `input_fn` function is defined outside the `input_fn` function.Please ensure that all datasets in the pipeline are created in the same graph as the iterator. NOTE: This warning will become an error in future versions of TensorFlow.\n",
      "WARNING:tensorflow:The graph (<tensorflow.python.framework.ops.Graph object at 0x1a285fffd0>) of the iterator is different from the graph (<tensorflow.python.framework.ops.Graph object at 0x1a250a5a58>) the dataset: <TensorSliceDataset shapes: (), types: tf.string> was created in. If you are using the Estimator API, make sure that no part of the dataset returned by the `input_fn` function is defined outside the `input_fn` function.Please ensure that all datasets in the pipeline are created in the same graph as the iterator. NOTE: This warning will become an error in future versions of TensorFlow.\n",
      "MODEL INFO: 19-04-13 20:09:13 Asserting predictions have the same number of columns...\n",
      "MODEL INFO: 19-04-13 20:09:13 [+] Successfully made one prediction. 0.28 sec used. Total time used for testing: 1.09 sec. Current estimated time for test: 2.73e-01 sec.\n",
      "INGESTION INFO: 19-04-13 20:09:13 [+] Prediction success, time spent so far  4.53 sec\n",
      "INGESTION INFO: 19-04-13 20:09:13 [+] Time left 7195.47 sec\n",
      "INGESTION INFO: 19-04-13 20:09:13 Training the model...\n",
      "MODEL INFO: 19-04-13 20:09:13 Begin training for another 16 steps...estimated time for this: 2.29 sec.\n",
      "MODEL INFO: 19-04-13 20:09:13 Tensor shape before preprocessing: (1, 32, 32, 3)\n",
      "MODEL INFO: 19-04-13 20:09:13 Tensor shape after preprocessing: (1, 32, 32, 3)\n",
      "WARNING:tensorflow:The graph (<tensorflow.python.framework.ops.Graph object at 0x1a2898cc50>) of the iterator is different from the graph (<tensorflow.python.framework.ops.Graph object at 0x1a250a5a58>) the dataset: <DatasetV1Adapter shapes: ((1, 32, 32, 3), (10,)), types: (tf.float32, tf.float32)> was created in. If you are using the Estimator API, make sure that no part of the dataset returned by the `input_fn` function is defined outside the `input_fn` function.Please ensure that all datasets in the pipeline are created in the same graph as the iterator. NOTE: This warning will become an error in future versions of TensorFlow.\n",
      "WARNING:tensorflow:The graph (<tensorflow.python.framework.ops.Graph object at 0x1a2898cc50>) of the iterator is different from the graph (<tensorflow.python.framework.ops.Graph object at 0x1a250a5a58>) the dataset: <TFRecordDatasetV1 shapes: (), types: tf.string> was created in. If you are using the Estimator API, make sure that no part of the dataset returned by the `input_fn` function is defined outside the `input_fn` function.Please ensure that all datasets in the pipeline are created in the same graph as the iterator. NOTE: This warning will become an error in future versions of TensorFlow.\n",
      "WARNING:tensorflow:The graph (<tensorflow.python.framework.ops.Graph object at 0x1a2898cc50>) of the iterator is different from the graph (<tensorflow.python.framework.ops.Graph object at 0x1a250a5a58>) the dataset: <TensorSliceDataset shapes: (), types: tf.string> was created in. If you are using the Estimator API, make sure that no part of the dataset returned by the `input_fn` function is defined outside the `input_fn` function.Please ensure that all datasets in the pipeline are created in the same graph as the iterator. NOTE: This warning will become an error in future versions of TensorFlow.\n",
      "SCORING INFO: 19-04-13 20:09:14 [+] New prediction found. Now number of predictions made = 4\n",
      "SCORING INFO: 19-04-13 20:09:14 NBAC (2 * BAC - 1) of the latest prediction is 0.1928.\n",
      "SCORING INFO: 19-04-13 20:09:14 Accuracy of the latest prediction is 0.1097.\n",
      "SCORING INFO: 19-04-13 20:09:14 Current area under learning curve for miniciao: 0.1658\n",
      "WARNING:tensorflow:From /Users/zhen/Documents/miniconda3/envs/py37/lib/python3.7/site-packages/tensorflow/python/training/saver.py:966: remove_checkpoint (from tensorflow.python.training.checkpoint_management) is deprecated and will be removed in a future version.\n",
      "Instructions for updating:\n",
      "Use standard file APIs to delete files with this prefix.\n"
     ]
    },
    {
     "name": "stdout",
     "output_type": "stream",
     "text": [
      "MODEL INFO: 19-04-13 20:09:14 16 steps trained. 1.02 sec used. Now total steps trained: 40. Total time used for training: 4.46 sec. Current estimated time per step: 1.11e-01 sec.\n",
      "MODEL INFO: 19-04-13 20:09:14 Model already trained for 14.634146341463415 epochs.\n",
      "MODEL INFO: 19-04-13 20:09:14 Begin testing... estimated time: 2.73e-01 sec.\n",
      "MODEL INFO: 19-04-13 20:09:14 Tensor shape before preprocessing: (1, 32, 32, 3)\n",
      "MODEL INFO: 19-04-13 20:09:14 Tensor shape after preprocessing: (1, 32, 32, 3)\n",
      "WARNING:tensorflow:The graph (<tensorflow.python.framework.ops.Graph object at 0x1a28a9b048>) of the iterator is different from the graph (<tensorflow.python.framework.ops.Graph object at 0x1a250a5a58>) the dataset: <DatasetV1Adapter shapes: ((1, 32, 32, 3), (10,)), types: (tf.float32, tf.float32)> was created in. If you are using the Estimator API, make sure that no part of the dataset returned by the `input_fn` function is defined outside the `input_fn` function.Please ensure that all datasets in the pipeline are created in the same graph as the iterator. NOTE: This warning will become an error in future versions of TensorFlow.\n",
      "WARNING:tensorflow:The graph (<tensorflow.python.framework.ops.Graph object at 0x1a28a9b048>) of the iterator is different from the graph (<tensorflow.python.framework.ops.Graph object at 0x1a250a5a58>) the dataset: <TFRecordDatasetV1 shapes: (), types: tf.string> was created in. If you are using the Estimator API, make sure that no part of the dataset returned by the `input_fn` function is defined outside the `input_fn` function.Please ensure that all datasets in the pipeline are created in the same graph as the iterator. NOTE: This warning will become an error in future versions of TensorFlow.\n",
      "WARNING:tensorflow:The graph (<tensorflow.python.framework.ops.Graph object at 0x1a28a9b048>) of the iterator is different from the graph (<tensorflow.python.framework.ops.Graph object at 0x1a250a5a58>) the dataset: <TensorSliceDataset shapes: (), types: tf.string> was created in. If you are using the Estimator API, make sure that no part of the dataset returned by the `input_fn` function is defined outside the `input_fn` function.Please ensure that all datasets in the pipeline are created in the same graph as the iterator. NOTE: This warning will become an error in future versions of TensorFlow.\n",
      "MODEL INFO: 19-04-13 20:09:15 Asserting predictions have the same number of columns...\n",
      "MODEL INFO: 19-04-13 20:09:15 [+] Successfully made one prediction. 0.26 sec used. Total time used for testing: 1.35 sec. Current estimated time for test: 2.70e-01 sec.\n",
      "INGESTION INFO: 19-04-13 20:09:15 [+] Prediction success, time spent so far  5.81 sec\n",
      "INGESTION INFO: 19-04-13 20:09:15 [+] Time left 7194.19 sec\n",
      "INGESTION INFO: 19-04-13 20:09:15 Training the model...\n",
      "MODEL INFO: 19-04-13 20:09:15 Begin training for another 32 steps...estimated time for this: 3.56 sec.\n",
      "MODEL INFO: 19-04-13 20:09:15 Tensor shape before preprocessing: (1, 32, 32, 3)\n",
      "MODEL INFO: 19-04-13 20:09:15 Tensor shape after preprocessing: (1, 32, 32, 3)\n",
      "WARNING:tensorflow:The graph (<tensorflow.python.framework.ops.Graph object at 0x1a27357c50>) of the iterator is different from the graph (<tensorflow.python.framework.ops.Graph object at 0x1a250a5a58>) the dataset: <DatasetV1Adapter shapes: ((1, 32, 32, 3), (10,)), types: (tf.float32, tf.float32)> was created in. If you are using the Estimator API, make sure that no part of the dataset returned by the `input_fn` function is defined outside the `input_fn` function.Please ensure that all datasets in the pipeline are created in the same graph as the iterator. NOTE: This warning will become an error in future versions of TensorFlow.\n",
      "WARNING:tensorflow:The graph (<tensorflow.python.framework.ops.Graph object at 0x1a27357c50>) of the iterator is different from the graph (<tensorflow.python.framework.ops.Graph object at 0x1a250a5a58>) the dataset: <TFRecordDatasetV1 shapes: (), types: tf.string> was created in. If you are using the Estimator API, make sure that no part of the dataset returned by the `input_fn` function is defined outside the `input_fn` function.Please ensure that all datasets in the pipeline are created in the same graph as the iterator. NOTE: This warning will become an error in future versions of TensorFlow.\n",
      "WARNING:tensorflow:The graph (<tensorflow.python.framework.ops.Graph object at 0x1a27357c50>) of the iterator is different from the graph (<tensorflow.python.framework.ops.Graph object at 0x1a250a5a58>) the dataset: <TensorSliceDataset shapes: (), types: tf.string> was created in. If you are using the Estimator API, make sure that no part of the dataset returned by the `input_fn` function is defined outside the `input_fn` function.Please ensure that all datasets in the pipeline are created in the same graph as the iterator. NOTE: This warning will become an error in future versions of TensorFlow.\n",
      "SCORING INFO: 19-04-13 20:09:15 [+] New prediction found. Now number of predictions made = 5\n",
      "SCORING INFO: 19-04-13 20:09:15 NBAC (2 * BAC - 1) of the latest prediction is 0.1970.\n",
      "SCORING INFO: 19-04-13 20:09:15 Accuracy of the latest prediction is 0.1077.\n",
      "SCORING INFO: 19-04-13 20:09:15 Current area under learning curve for miniciao: 0.1689\n",
      "MODEL INFO: 19-04-13 20:09:16 32 steps trained. 1.05 sec used. Now total steps trained: 72. Total time used for training: 5.50 sec. Current estimated time per step: 7.64e-02 sec.\n",
      "MODEL INFO: 19-04-13 20:09:16 Model already trained for 26.341463414634145 epochs.\n",
      "MODEL INFO: 19-04-13 20:09:16 Begin testing... estimated time: 2.70e-01 sec.\n",
      "MODEL INFO: 19-04-13 20:09:16 Tensor shape before preprocessing: (1, 32, 32, 3)\n",
      "MODEL INFO: 19-04-13 20:09:16 Tensor shape after preprocessing: (1, 32, 32, 3)\n",
      "WARNING:tensorflow:The graph (<tensorflow.python.framework.ops.Graph object at 0x1a2739e240>) of the iterator is different from the graph (<tensorflow.python.framework.ops.Graph object at 0x1a250a5a58>) the dataset: <DatasetV1Adapter shapes: ((1, 32, 32, 3), (10,)), types: (tf.float32, tf.float32)> was created in. If you are using the Estimator API, make sure that no part of the dataset returned by the `input_fn` function is defined outside the `input_fn` function.Please ensure that all datasets in the pipeline are created in the same graph as the iterator. NOTE: This warning will become an error in future versions of TensorFlow.\n",
      "WARNING:tensorflow:The graph (<tensorflow.python.framework.ops.Graph object at 0x1a2739e240>) of the iterator is different from the graph (<tensorflow.python.framework.ops.Graph object at 0x1a250a5a58>) the dataset: <TFRecordDatasetV1 shapes: (), types: tf.string> was created in. If you are using the Estimator API, make sure that no part of the dataset returned by the `input_fn` function is defined outside the `input_fn` function.Please ensure that all datasets in the pipeline are created in the same graph as the iterator. NOTE: This warning will become an error in future versions of TensorFlow.\n",
      "WARNING:tensorflow:The graph (<tensorflow.python.framework.ops.Graph object at 0x1a2739e240>) of the iterator is different from the graph (<tensorflow.python.framework.ops.Graph object at 0x1a250a5a58>) the dataset: <TensorSliceDataset shapes: (), types: tf.string> was created in. If you are using the Estimator API, make sure that no part of the dataset returned by the `input_fn` function is defined outside the `input_fn` function.Please ensure that all datasets in the pipeline are created in the same graph as the iterator. NOTE: This warning will become an error in future versions of TensorFlow.\n",
      "MODEL INFO: 19-04-13 20:09:16 Asserting predictions have the same number of columns...\n",
      "MODEL INFO: 19-04-13 20:09:16 [+] Successfully made one prediction. 0.26 sec used. Total time used for testing: 1.61 sec. Current estimated time for test: 2.69e-01 sec.\n",
      "INGESTION INFO: 19-04-13 20:09:16 [+] Prediction success, time spent so far  7.12 sec\n",
      "INGESTION INFO: 19-04-13 20:09:16 [+] Time left 7192.88 sec\n",
      "INGESTION INFO: 19-04-13 20:09:16 Training the model...\n",
      "MODEL INFO: 19-04-13 20:09:16 Begin training for another 64 steps...estimated time for this: 4.89 sec.\n",
      "MODEL INFO: 19-04-13 20:09:16 Tensor shape before preprocessing: (1, 32, 32, 3)\n",
      "MODEL INFO: 19-04-13 20:09:16 Tensor shape after preprocessing: (1, 32, 32, 3)\n",
      "WARNING:tensorflow:The graph (<tensorflow.python.framework.ops.Graph object at 0x1a274d86d8>) of the iterator is different from the graph (<tensorflow.python.framework.ops.Graph object at 0x1a250a5a58>) the dataset: <DatasetV1Adapter shapes: ((1, 32, 32, 3), (10,)), types: (tf.float32, tf.float32)> was created in. If you are using the Estimator API, make sure that no part of the dataset returned by the `input_fn` function is defined outside the `input_fn` function.Please ensure that all datasets in the pipeline are created in the same graph as the iterator. NOTE: This warning will become an error in future versions of TensorFlow.\n",
      "WARNING:tensorflow:The graph (<tensorflow.python.framework.ops.Graph object at 0x1a274d86d8>) of the iterator is different from the graph (<tensorflow.python.framework.ops.Graph object at 0x1a250a5a58>) the dataset: <TFRecordDatasetV1 shapes: (), types: tf.string> was created in. If you are using the Estimator API, make sure that no part of the dataset returned by the `input_fn` function is defined outside the `input_fn` function.Please ensure that all datasets in the pipeline are created in the same graph as the iterator. NOTE: This warning will become an error in future versions of TensorFlow.\n",
      "WARNING:tensorflow:The graph (<tensorflow.python.framework.ops.Graph object at 0x1a274d86d8>) of the iterator is different from the graph (<tensorflow.python.framework.ops.Graph object at 0x1a250a5a58>) the dataset: <TensorSliceDataset shapes: (), types: tf.string> was created in. If you are using the Estimator API, make sure that no part of the dataset returned by the `input_fn` function is defined outside the `input_fn` function.Please ensure that all datasets in the pipeline are created in the same graph as the iterator. NOTE: This warning will become an error in future versions of TensorFlow.\n"
     ]
    },
    {
     "name": "stdout",
     "output_type": "stream",
     "text": [
      "SCORING INFO: 19-04-13 20:09:16 [+] New prediction found. Now number of predictions made = 6\n",
      "SCORING INFO: 19-04-13 20:09:16 NBAC (2 * BAC - 1) of the latest prediction is 0.1979.\n",
      "SCORING INFO: 19-04-13 20:09:16 Accuracy of the latest prediction is 0.1096.\n",
      "SCORING INFO: 19-04-13 20:09:16 Current area under learning curve for miniciao: 0.1695\n",
      "MODEL INFO: 19-04-13 20:09:17 64 steps trained. 1.36 sec used. Now total steps trained: 136. Total time used for training: 6.86 sec. Current estimated time per step: 5.04e-02 sec.\n",
      "MODEL INFO: 19-04-13 20:09:17 Model already trained for 49.75609756097561 epochs.\n",
      "MODEL INFO: 19-04-13 20:09:17 Oops! Choose to stop early for next call!\n",
      "MODEL INFO: 19-04-13 20:09:17 Begin testing... estimated time: 2.69e-01 sec.\n",
      "MODEL INFO: 19-04-13 20:09:17 Tensor shape before preprocessing: (1, 32, 32, 3)\n",
      "MODEL INFO: 19-04-13 20:09:17 Tensor shape after preprocessing: (1, 32, 32, 3)\n",
      "WARNING:tensorflow:The graph (<tensorflow.python.framework.ops.Graph object at 0x1a28ab9be0>) of the iterator is different from the graph (<tensorflow.python.framework.ops.Graph object at 0x1a250a5a58>) the dataset: <DatasetV1Adapter shapes: ((1, 32, 32, 3), (10,)), types: (tf.float32, tf.float32)> was created in. If you are using the Estimator API, make sure that no part of the dataset returned by the `input_fn` function is defined outside the `input_fn` function.Please ensure that all datasets in the pipeline are created in the same graph as the iterator. NOTE: This warning will become an error in future versions of TensorFlow.\n",
      "WARNING:tensorflow:The graph (<tensorflow.python.framework.ops.Graph object at 0x1a28ab9be0>) of the iterator is different from the graph (<tensorflow.python.framework.ops.Graph object at 0x1a250a5a58>) the dataset: <TFRecordDatasetV1 shapes: (), types: tf.string> was created in. If you are using the Estimator API, make sure that no part of the dataset returned by the `input_fn` function is defined outside the `input_fn` function.Please ensure that all datasets in the pipeline are created in the same graph as the iterator. NOTE: This warning will become an error in future versions of TensorFlow.\n",
      "WARNING:tensorflow:The graph (<tensorflow.python.framework.ops.Graph object at 0x1a28ab9be0>) of the iterator is different from the graph (<tensorflow.python.framework.ops.Graph object at 0x1a250a5a58>) the dataset: <TensorSliceDataset shapes: (), types: tf.string> was created in. If you are using the Estimator API, make sure that no part of the dataset returned by the `input_fn` function is defined outside the `input_fn` function.Please ensure that all datasets in the pipeline are created in the same graph as the iterator. NOTE: This warning will become an error in future versions of TensorFlow.\n",
      "MODEL INFO: 19-04-13 20:09:18 Asserting predictions have the same number of columns...\n",
      "MODEL INFO: 19-04-13 20:09:18 [+] Successfully made one prediction. 0.26 sec used. Total time used for testing: 1.87 sec. Current estimated time for test: 2.67e-01 sec.\n",
      "INGESTION INFO: 19-04-13 20:09:18 [+] Prediction success, time spent so far  8.74 sec\n",
      "INGESTION INFO: 19-04-13 20:09:18 [+] Time left 7191.26 sec\n",
      "INGESTION INFO: 19-04-13 20:09:18 Training the model...\n",
      "MODEL INFO: 19-04-13 20:09:18 Begin training for another 128 steps...estimated time for this: 6.46 sec.\n",
      "MODEL INFO: 19-04-13 20:09:18 Tensor shape before preprocessing: (1, 32, 32, 3)\n",
      "MODEL INFO: 19-04-13 20:09:18 Tensor shape after preprocessing: (1, 32, 32, 3)\n",
      "WARNING:tensorflow:The graph (<tensorflow.python.framework.ops.Graph object at 0x1a2844e828>) of the iterator is different from the graph (<tensorflow.python.framework.ops.Graph object at 0x1a250a5a58>) the dataset: <DatasetV1Adapter shapes: ((1, 32, 32, 3), (10,)), types: (tf.float32, tf.float32)> was created in. If you are using the Estimator API, make sure that no part of the dataset returned by the `input_fn` function is defined outside the `input_fn` function.Please ensure that all datasets in the pipeline are created in the same graph as the iterator. NOTE: This warning will become an error in future versions of TensorFlow.\n",
      "WARNING:tensorflow:The graph (<tensorflow.python.framework.ops.Graph object at 0x1a2844e828>) of the iterator is different from the graph (<tensorflow.python.framework.ops.Graph object at 0x1a250a5a58>) the dataset: <TFRecordDatasetV1 shapes: (), types: tf.string> was created in. If you are using the Estimator API, make sure that no part of the dataset returned by the `input_fn` function is defined outside the `input_fn` function.Please ensure that all datasets in the pipeline are created in the same graph as the iterator. NOTE: This warning will become an error in future versions of TensorFlow.\n",
      "WARNING:tensorflow:The graph (<tensorflow.python.framework.ops.Graph object at 0x1a2844e828>) of the iterator is different from the graph (<tensorflow.python.framework.ops.Graph object at 0x1a250a5a58>) the dataset: <TensorSliceDataset shapes: (), types: tf.string> was created in. If you are using the Estimator API, make sure that no part of the dataset returned by the `input_fn` function is defined outside the `input_fn` function.Please ensure that all datasets in the pipeline are created in the same graph as the iterator. NOTE: This warning will become an error in future versions of TensorFlow.\n",
      "SCORING INFO: 19-04-13 20:09:18 [+] New prediction found. Now number of predictions made = 7\n",
      "SCORING INFO: 19-04-13 20:09:18 NBAC (2 * BAC - 1) of the latest prediction is 0.2022.\n",
      "SCORING INFO: 19-04-13 20:09:18 Accuracy of the latest prediction is 0.1152.\n",
      "SCORING INFO: 19-04-13 20:09:18 Current area under learning curve for miniciao: 0.1726\n",
      "MODEL INFO: 19-04-13 20:09:20 128 steps trained. 2.15 sec used. Now total steps trained: 264. Total time used for training: 9.01 sec. Current estimated time per step: 3.41e-02 sec.\n",
      "INGESTION INFO: 19-04-13 20:09:20 Successfully write duration to duration.txt.\n",
      "INGESTION INFO: 19-04-13 20:09:20 [+] Done\n",
      "INGESTION INFO: 19-04-13 20:09:20 [+] Overall time spent 13.91 sec \n",
      "SCORING INFO: 19-04-13 20:09:20 Detected early stop of ingestion program. Stop scoring now.\n",
      "SCORING INFO: 19-04-13 20:09:21 [+] Successfully finished scoring! Duration used: 13.91 sec. The score of your algorithm on this task (miniciao) is: 0.172650.\n"
     ]
    }
   ],
   "source": [
    "# run local test\n",
    "!python run_local_test.py -code_dir=./AutoDL_sample_code_submission -dataset_dir=AutoDL_sample_data/miniciao"
   ]
  },
  {
   "cell_type": "code",
   "execution_count": 117,
   "metadata": {},
   "outputs": [
    {
     "data": {
      "text/html": [
       "<html><body><pre><img src=\"data:image/png;charset=utf-8;base64,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\"/><br></pre></body></html>"
      ],
      "text/plain": [
       "<IPython.core.display.HTML object>"
      ]
     },
     "metadata": {},
     "output_type": "display_data"
    }
   ],
   "source": [
    "# result report\n",
    "from IPython.core.display import display, HTML\n",
    "\n",
    "display(HTML(detailed_results_page))"
   ]
  },
  {
   "cell_type": "code",
   "execution_count": 118,
   "metadata": {},
   "outputs": [
    {
     "name": "stdout",
     "output_type": "stream",
     "text": [
      "Submit this file: mysubmission.zip\n"
     ]
    }
   ],
   "source": [
    "# compress model to be submitted\n",
    "from data_io import zipdir\n",
    "sample_code_submission = 'mysubmission.zip'\n",
    "zipdir(sample_code_submission, model_dir)\n",
    "print(\"Submit this file: \" + sample_code_submission)"
   ]
  },
  {
   "cell_type": "markdown",
   "metadata": {},
   "source": [
    "# Next steps"
   ]
  },
  {
   "cell_type": "markdown",
   "metadata": {},
   "source": [
    "<font color='red'>\n",
    "If you run the above cells successfully, congratulations! You are all set! In order to get better score on the challenge, you need to design your model carefully, that can learn better and faster on different datasets."
   ]
  },
  {
   "cell_type": "markdown",
   "metadata": {},
   "source": [
    "<font color='red'>\n",
    "You don't need to write from scratch, but can instead follow our provided baseline model. Basically, you need to write three functions: (these functions can be found in <code>model.py</code>)\n",
    "\n",
    "- <code>preprocess_tensor_4d</code> (optional) for preprocessing data, e.g. resize, change gray images to RGB images\n",
    "- <code>input_function</code> (optional) for reading batchs\n",
    "- <code>model_fn</code> (mandatory) for defining your own models, CNN, ResNet, Inception, etc.\n",
    "\n",
    "For instructions on wrinting <code>model_fn</code>, you are invited to consult this page for reference: \n",
    "https://www.tensorflow.org/guide/custom_estimators#write_a_model_function\n",
    "\n",
    "Good luck!"
   ]
  },
  {
   "cell_type": "code",
   "execution_count": null,
   "metadata": {
    "collapsed": true
   },
   "outputs": [],
   "source": []
  }
 ],
 "metadata": {
  "kernelspec": {
   "display_name": "Python 3",
   "language": "python",
   "name": "python3"
  },
  "language_info": {
   "codemirror_mode": {
    "name": "ipython",
    "version": 3
   },
   "file_extension": ".py",
   "mimetype": "text/x-python",
   "name": "python",
   "nbconvert_exporter": "python",
   "pygments_lexer": "ipython3",
   "version": "3.6.8"
  }
 },
 "nbformat": 4,
 "nbformat_minor": 2
}
