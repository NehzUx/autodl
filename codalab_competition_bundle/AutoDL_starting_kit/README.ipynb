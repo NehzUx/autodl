{
 "cells": [
  {
   "cell_type": "markdown",
   "metadata": {},
   "source": [
    "<div><img src=\"logo.gif\" width=\"220\" ALIGN=\"left\" border=\"20\"></div>\n",
    "<center><font color=\"4466ff\"> <h1>AutoCV Starting Kit </h1> </font></center>\n",
    "<br>\n",
    "<p>This code was tested with docker evariste/autodl \n",
    "<p>\n",
    "ALL INFORMATION, SOFTWARE, DOCUMENTATION, AND DATA ARE PROVIDED \"AS-IS\".\n",
    "UNIVERSITE PARIS SUD, INRIA, CHALEARN, AND/OR OTHER ORGANIZERS\n",
    "OR CODE AUTHORS DISCLAIM ANY EXPRESSED OR IMPLIED WARRANTIES."
   ]
  },
  {
   "cell_type": "markdown",
   "metadata": {},
   "source": [
    "# Introduction\n",
    "\n",
    "* We target applications of multi-label image classification. \n",
    "* Raw data are provided, in TF record format.  \n",
    "* We impose restrictions on training time and resources to push the state-of-the-art further.\n",
    "* This notebook uses sample data. Download larger datasets from the website of the challenge."
   ]
  },
  {
   "cell_type": "code",
   "execution_count": null,
   "metadata": {
    "collapsed": true
   },
   "outputs": [],
   "source": [
    "model_dir = 'AutoDL_sample_code_submission/'      # Where the code you should submit is found (called model.py)\n",
    "simple_dir = 'AutoDL_simple_baseline_models/'    # Where you find some examples of code to replace model.py\n",
    "lib_dir = 'AutoDL_ingestion_program/'             # Useful libraries used on Codalab\n",
    "score_dir = 'AutoDL_scoring_program/'             # Scoring program \n",
    "from sys import path; path.append(model_dir); path.append(lib_dir); path.append(score_dir); \n",
    "%matplotlib inline\n",
    "# Uncomment the next lines to auto-reload libraries (this causes some problem with pickles in Python 3)\n",
    "%load_ext autoreload\n",
    "%autoreload 2\n",
    "import tensorflow as tf\n",
    "import warnings; warnings.filterwarnings(\"ignore\")\n",
    "from os.path import join"
   ]
  },
  {
   "cell_type": "markdown",
   "metadata": {},
   "source": [
    "<div style=\"background:#cfdfff\">\n",
    "    <h1> Step 1: Load data </h1>\n",
    "<p>\n",
    "We provide sample_data with the starting kit, but you may fetch other public_data from the challenge website and subtitute it to sample_data.\n",
    "</div>"
   ]
  },
  {
   "cell_type": "code",
   "execution_count": null,
   "metadata": {},
   "outputs": [],
   "source": [
    "data_dir = 'AutoDL_sample_data'            # Change this directory and the dataset as needed\n",
    "data_name = 'miniciao' \n",
    "!ls $data_dir*"
   ]
  },
  {
   "cell_type": "code",
   "execution_count": null,
   "metadata": {},
   "outputs": [],
   "source": [
    "from dataset import AutoDLDataset\n",
    "D_train = AutoDLDataset(join(data_dir, data_name + '.data', \"train\"))\n",
    "D_test = AutoDLDataset(join(data_dir, data_name + '.data', \"test\"))"
   ]
  },
  {
   "cell_type": "markdown",
   "metadata": {},
   "source": [
    "<div style=\"background:#cfdfff\">\n",
    "    <h1> Step 2: Exploratory data analysis </h1>\n",
    "    <br>\n",
    "    <font color=\"ff0000\"> THIS NEEDS MORE EXAMPLES OF DATA VISUALIZATION. T-SNE? We also need to show the TEXT labels.</font>\n",
    "</div>\n"
   ]
  },
  {
   "cell_type": "code",
   "execution_count": null,
   "metadata": {},
   "outputs": [],
   "source": [
    "D_train.show_image(1)\n",
    "D_train.show_image(11)"
   ]
  },
  {
   "cell_type": "code",
   "execution_count": null,
   "metadata": {},
   "outputs": [],
   "source": [
    "class_labels=D_train.get_class_labels()\n",
    "print(class_labels)"
   ]
  },
  {
   "cell_type": "markdown",
   "metadata": {},
   "source": [
    "<div style=\"background:#cfdfff\">\n",
    "    <h1>Step 3: Building a predictive model</h1>\n",
    "    <p>\n",
    "We provide a simple example of predictive model in the `AutoDL_sample_code_submission/` directory. You can change it to another example by copying other examples from AutoDL_simple_baseline_models.\n",
    "</div>"
   ]
  },
  {
   "cell_type": "code",
   "execution_count": null,
   "metadata": {},
   "outputs": [],
   "source": [
    "my_chosen_model = join(simple_dir, 'linear.py')  # all_zero.py, linear.py, or 2dcnn.py\n",
    "my_submitted_model = join(model_dir, 'model.py') # submitted models must be called model.py\n",
    "!cp $my_chosen_model $my_submitted_model\n",
    "!rm -r checkpoints*                              # clean up previous models"
   ]
  },
  {
   "cell_type": "code",
   "execution_count": null,
   "metadata": {},
   "outputs": [],
   "source": [
    "from model import Model\n",
    "??Model\n",
    "time_budget=100\n",
    "M = Model(D_train.get_metadata())"
   ]
  },
  {
   "cell_type": "code",
   "execution_count": null,
   "metadata": {},
   "outputs": [],
   "source": [
    "M.train(D_train.get_dataset(),\n",
    "                  remaining_time_budget=time_budget)"
   ]
  },
  {
   "cell_type": "code",
   "execution_count": null,
   "metadata": {},
   "outputs": [],
   "source": [
    "prediction = M.test(D_test.get_dataset(), remaining_time_budget=time_budget)"
   ]
  },
  {
   "cell_type": "markdown",
   "metadata": {},
   "source": [
    "<div style=\"background:#cfdfff\">\n",
    "<h1> Step 4: Compute score </h1> \n",
    "Compute the balanced accuracy for the chosen duration. For this challenge, you will be judged on the area under the learning curve, computed for increasing training times.\n",
    "</div>"
   ]
  },
  {
   "cell_type": "code",
   "execution_count": null,
   "metadata": {
    "scrolled": true
   },
   "outputs": [],
   "source": [
    "from score import autodl_bac\n",
    "from libscores import read_array\n",
    "solution_file = join(data_dir, data_name + '.solution')\n",
    "solution = read_array(solution_file)\n",
    "current_bac = autodl_bac(solution, prediction)\n",
    "print('Number of test examples: %d \\n\\t\\t Solution \\t\\t\\t\\t\\t Prediction ' % len(solution))\n",
    "[print(z) for z in zip(solution, prediction)]\n",
    "print(\"Normalized balanced accuracy (2*BAC-1) = {:.4f}.\".format(current_bac))"
   ]
  },
  {
   "cell_type": "markdown",
   "metadata": {},
   "source": [
    "<div style=\"background:#cfdfff\">\n",
    "<h1> Step 5: Making a submission </h1> \n",
    "\n",
    "<h2> Unit testing </h2> \n",
    "\n",
    "It is <b><span style=\"color:red\">important that you test your submission files before submitting them</span></b>. All you have to do to make a submission is modify the file <code>model.py</code> in the <code>AutoDL_sample_code_submission/</code> directory, then run this test to make sure everything works fine. This is the actual program that will be run on the server to test your submission. \n",
    "</div>"
   ]
  },
  {
   "cell_type": "code",
   "execution_count": null,
   "metadata": {},
   "outputs": [],
   "source": [
    "!python run_local_test.py -dataset_dir=$data_dir -code_dir=$model_dir"
   ]
  },
  {
   "cell_type": "markdown",
   "metadata": {},
   "source": [
    "<div style=\"background:#cfdfff\">\n",
    "    <h1> Preparing the submission </h1>\n",
    "\n",
    "Zip the contents of `AutoDL_sample_code_submission/` (without the directory).\n",
    "<b><span style=\"color:red\">Do NOT zip the data with your submissions</span></b>.\n",
    "</div>"
   ]
  },
  {
   "cell_type": "code",
   "execution_count": null,
   "metadata": {},
   "outputs": [],
   "source": [
    "import datetime \n",
    "from data_io import zipdir\n",
    "the_date = datetime.datetime.now().strftime(\"%y-%m-%d-%H-%M\")\n",
    "# sample_code_submission = 'sample_code_submission_' + the_date + '.zip'\n",
    "sample_code_submission = 'mysubmission.zip'\n",
    "zipdir(sample_code_submission, model_dir)\n",
    "print(\"Submit this file: \" + sample_code_submission)"
   ]
  }
 ],
 "metadata": {
  "kernelspec": {
   "display_name": "Python 3",
   "language": "python",
   "name": "python3"
  },
  "language_info": {
   "codemirror_mode": {
    "name": "ipython",
    "version": 3
   },
   "file_extension": ".py",
   "mimetype": "text/x-python",
   "name": "python",
   "nbconvert_exporter": "python",
   "pygments_lexer": "ipython3",
   "version": "3.6.8"
  }
 },
 "nbformat": 4,
 "nbformat_minor": 2
}
