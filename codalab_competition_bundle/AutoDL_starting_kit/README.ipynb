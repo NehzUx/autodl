{
 "cells": [
  {
   "cell_type": "markdown",
   "metadata": {},
   "source": [
    "<div><img src=\"logo.gif\" width=\"220\" ALIGN=\"left\" border=\"20\"></div>\n",
    "<center><font color=\"4466ff\"> <h1>AutoCV Starting Kit </h1> </font></center>\n",
    "<br>\n",
    "<p>This code was tested with docker evariste/autodl \n",
    "<p>\n",
    "ALL INFORMATION, SOFTWARE, DOCUMENTATION, AND DATA ARE PROVIDED \"AS-IS\".\n",
    "UNIVERSITE PARIS SUD, INRIA, CHALEARN, AND/OR OTHER ORGANIZERS\n",
    "OR CODE AUTHORS DISCLAIM ANY EXPRESSED OR IMPLIED WARRANTIES."
   ]
  },
  {
   "cell_type": "markdown",
   "metadata": {},
   "source": [
    "# Introduction\n",
    "\n",
    "* We target applications of multi-label image classification. \n",
    "* Raw data are provided, in TF record format.  \n",
    "* We impose restrictions on training time and resources to push the state-of-the-art further.\n",
    "* This notebook uses sample data. Download larger datasets from the website of the challenge."
   ]
  },
  {
   "cell_type": "code",
   "execution_count": 1,
   "metadata": {
    "collapsed": true
   },
   "outputs": [],
   "source": [
    "model_dir = 'AutoDL_sample_code_submission/'      # Where the code you should submit is found (called model.py)\n",
    "simple_dir = 'AutoDL_simple_baseline_models/'    # Where you find some examples of code to replace model.py\n",
    "lib_dir = 'AutoDL_ingestion_program/'             # Useful libraries used on Codalab\n",
    "score_dir = 'AutoDL_scoring_program/'             # Scoring program \n",
    "from sys import path; path.append(model_dir); path.append(lib_dir); path.append(score_dir); \n",
    "%matplotlib inline\n",
    "# Uncomment the next lines to auto-reload libraries (this causes some problem with pickles in Python 3)\n",
    "%load_ext autoreload\n",
    "%autoreload 2\n",
    "import tensorflow as tf\n",
    "import warnings; warnings.filterwarnings(\"ignore\")\n",
    "from os.path import join"
   ]
  },
  {
   "cell_type": "markdown",
   "metadata": {},
   "source": [
    "<div style=\"background:#cfdfff\">\n",
    "    <h1> Step 1: Load data </h1>\n",
    "<p>\n",
    "We provide sample_data with the starting kit, but you may fetch other public_data from the challenge website and subtitute it to sample_data.\n",
    "</div>"
   ]
  },
  {
   "cell_type": "code",
   "execution_count": 2,
   "metadata": {},
   "outputs": [
    {
     "name": "stdout",
     "output_type": "stream",
     "text": [
      "\u001b[1m\u001b[34mminiciao.data\u001b[m\u001b[m        miniciao_label.name\r\n",
      "miniciao.solution    miniciao_public.info\r\n"
     ]
    }
   ],
   "source": [
    "data_dir = 'AutoDL_sample_data'            # Change this directory and the dataset as needed\n",
    "data_name = 'miniciao' \n",
    "!ls $data_dir*"
   ]
  },
  {
   "cell_type": "code",
   "execution_count": 3,
   "metadata": {},
   "outputs": [
    {
     "name": "stdout",
     "output_type": "stream",
     "text": [
      "WARNING:tensorflow:From AutoDL_ingestion_program/dataset.py:223: sparse_to_dense (from tensorflow.python.ops.sparse_ops) is deprecated and will be removed in a future version.\n",
      "Instructions for updating:\n",
      "Create a `tf.sparse.SparseTensor` and use `tf.sparse.to_dense` instead.\n"
     ]
    }
   ],
   "source": [
    "from dataset import AutoDLDataset\n",
    "D_train = AutoDLDataset(join(data_dir, data_name + '.data', \"train\"))\n",
    "D_test = AutoDLDataset(join(data_dir, data_name + '.data', \"test\"))"
   ]
  },
  {
   "cell_type": "markdown",
   "metadata": {},
   "source": [
    "<div style=\"background:#cfdfff\">\n",
    "    <h1> Step 2: Exploratory data analysis </h1>\n",
    "    <br>\n",
    "    <font color=\"ff0000\"> THIS NEEDS MORE EXAMPLES OF DATA VISUALIZATION. T-SNE? We also need to show the TEXT labels.</font>\n",
    "</div>\n"
   ]
  },
  {
   "cell_type": "code",
   "execution_count": 4,
   "metadata": {},
   "outputs": [
    {
     "data": {
      "image/png": "[encoded data removed]",
      "text/plain": [
       "<matplotlib.figure.Figure at 0x11cfa9128>"
      ]
     },
     "metadata": {},
     "output_type": "display_data"
    },
    {
     "data": {
      "image/png": "[encoded data removed]",
      "text/plain": [
       "<matplotlib.figure.Figure at 0x11d3dbf28>"
      ]
     },
     "metadata": {},
     "output_type": "display_data"
    },
    {
     "data": {
      "text/plain": [
       "<module 'matplotlib.pyplot' from '/Users/evariste/anaconda3/lib/python3.6/site-packages/matplotlib/pyplot.py'>"
      ]
     },
     "execution_count": 4,
     "metadata": {},
     "output_type": "execute_result"
    }
   ],
   "source": [
    "D_train.show_image(1)\n",
    "D_train.show_image(11)"
   ]
  },
  {
   "cell_type": "code",
   "execution_count": 5,
   "metadata": {},
   "outputs": [
    {
     "name": "stdout",
     "output_type": "stream",
     "text": [
      "['airplane', 'automobile', 'bird', 'cat', 'deer', 'dog', 'frog', 'horse', 'ship', 'truck']\n"
     ]
    }
   ],
   "source": [
    "class_labels=D_train.get_class_labels()\n",
    "print(class_labels)"
   ]
  },
  {
   "cell_type": "markdown",
   "metadata": {},
   "source": [
    "<div style=\"background:#cfdfff\">\n",
    "    <h1>Step 3: Building a predictive model</h1>\n",
    "    <p>\n",
    "We provide a simple example of predictive model in the `AutoDL_sample_code_submission/` directory. You can change it to another example by copying other examples from AutoDL_simple_baseline_models.\n",
    "</div>"
   ]
  },
  {
   "cell_type": "code",
   "execution_count": 6,
   "metadata": {},
   "outputs": [],
   "source": [
    "my_chosen_model = join(simple_dir, 'linear.py')  # all_zero.py, linear.py, or 2dcnn.py\n",
    "my_submitted_model = join(model_dir, 'model.py') # submitted models must be called model.py\n",
    "!cp $my_chosen_model $my_submitted_model\n",
    "!rm -r checkpoints*                              # clean up previous models"
   ]
  },
  {
   "cell_type": "code",
   "execution_count": 7,
   "metadata": {},
   "outputs": [
    {
     "name": "stdout",
     "output_type": "stream",
     "text": [
      "MODEL INFO: 19-03-19 17:52:06 The dataset miniciao has 82 training examples and 10 classes.\n",
      "INFO:tensorflow:Using default config.\n",
      "INFO:tensorflow:Using config: {'_model_dir': '/Users/evariste/projects/autodl/codalab_competition_bundle/AutoDL_starting_kit/AutoDL_sample_code_submission/../checkpoints_miniciao', '_tf_random_seed': None, '_save_summary_steps': 100, '_save_checkpoints_steps': None, '_save_checkpoints_secs': 600, '_session_config': allow_soft_placement: true\n",
      "graph_options {\n",
      "  rewrite_options {\n",
      "    meta_optimizer_iterations: ONE\n",
      "  }\n",
      "}\n",
      ", '_keep_checkpoint_max': 5, '_keep_checkpoint_every_n_hours': 10000, '_log_step_count_steps': 100, '_train_distribute': None, '_device_fn': None, '_protocol': None, '_eval_distribute': None, '_experimental_distribute': None, '_service': None, '_cluster_spec': <tensorflow.python.training.server_lib.ClusterSpec object at 0x1223af5c0>, '_task_type': 'worker', '_task_id': 0, '_global_id_in_cluster': 0, '_master': '', '_evaluation_master': '', '_is_chief': True, '_num_ps_replicas': 0, '_num_worker_replicas': 1}\n"
     ]
    }
   ],
   "source": [
    "from model import Model\n",
    "??Model\n",
    "time_budget=100\n",
    "M = Model(D_train.get_metadata())"
   ]
  },
  {
   "cell_type": "code",
   "execution_count": 8,
   "metadata": {},
   "outputs": [
    {
     "name": "stdout",
     "output_type": "stream",
     "text": [
      "MODEL INFO: 19-03-19 17:52:06 Begin training for another 10 steps...\n",
      "MODEL INFO: 19-03-19 17:52:06 Tensor shape before preprocessing: (1, 32, 32, 3)\n",
      "MODEL INFO: 19-03-19 17:52:06 Tensor shape after preprocessing: (1, 32, 32, 3)\n",
      "INFO:tensorflow:Calling model_fn.\n",
      "INFO:tensorflow:Done calling model_fn.\n",
      "INFO:tensorflow:Create CheckpointSaverHook.\n",
      "INFO:tensorflow:Graph was finalized.\n",
      "INFO:tensorflow:Running local_init_op.\n",
      "INFO:tensorflow:Done running local_init_op.\n",
      "INFO:tensorflow:Saving checkpoints for 0 into /Users/evariste/projects/autodl/codalab_competition_bundle/AutoDL_starting_kit/AutoDL_sample_code_submission/../checkpoints_miniciao/model.ckpt.\n",
      "INFO:tensorflow:loss = 224.18816, step = 1\n",
      "INFO:tensorflow:Saving checkpoints for 10 into /Users/evariste/projects/autodl/codalab_competition_bundle/AutoDL_starting_kit/AutoDL_sample_code_submission/../checkpoints_miniciao/model.ckpt.\n",
      "INFO:tensorflow:Loss for final step: 132.64198.\n",
      "MODEL INFO: 19-03-19 17:52:07 10 steps trained. 1.24 sec used. Now total steps trained: 10. Total time used for training: 1.24 sec. Current estimated time per step: 1.24e-01 sec.\n"
     ]
    }
   ],
   "source": [
    "M.train(D_train.get_dataset(),\n",
    "                  remaining_time_budget=time_budget)"
   ]
  },
  {
   "cell_type": "code",
   "execution_count": 9,
   "metadata": {},
   "outputs": [
    {
     "name": "stdout",
     "output_type": "stream",
     "text": [
      "MODEL INFO: 19-03-19 17:52:07 Model already trained for 3.658536585365854 epochs.\n",
      "MODEL INFO: 19-03-19 17:52:07 Begin testing... \n",
      "MODEL INFO: 19-03-19 17:52:07 Tensor shape before preprocessing: (1, 32, 32, 3)\n",
      "MODEL INFO: 19-03-19 17:52:07 Tensor shape after preprocessing: (1, 32, 32, 3)\n",
      "INFO:tensorflow:Calling model_fn.\n",
      "INFO:tensorflow:Done calling model_fn.\n",
      "INFO:tensorflow:Graph was finalized.\n",
      "INFO:tensorflow:Restoring parameters from /Users/evariste/projects/autodl/codalab_competition_bundle/AutoDL_starting_kit/AutoDL_sample_code_submission/../checkpoints_miniciao/model.ckpt-10\n",
      "INFO:tensorflow:Running local_init_op.\n",
      "INFO:tensorflow:Done running local_init_op.\n",
      "MODEL INFO: 19-03-19 17:52:07 Asserting predictions have the same number of columns...\n",
      "MODEL INFO: 19-03-19 17:52:07 [+] Successfully made one prediction. 0.31 sec used. Total time used for testing: 0.31 sec. Current estimated time for test: 3.11e-01 sec.\n"
     ]
    }
   ],
   "source": [
    "prediction = M.test(D_test.get_dataset(), remaining_time_budget=time_budget)"
   ]
  },
  {
   "cell_type": "markdown",
   "metadata": {},
   "source": [
    "<div style=\"background:#cfdfff\">\n",
    "<h1> Step 4: Compute score </h1> \n",
    "Compute the balanced accuracy for the chosen duration. For this challenge, you will be judged on the area under the learning curve, computed for increasing training times.\n",
    "</div>"
   ]
  },
  {
   "cell_type": "code",
   "execution_count": 10,
   "metadata": {
    "scrolled": true
   },
   "outputs": [
    {
     "name": "stdout",
     "output_type": "stream",
     "text": [
      "Number of test examples: 18 \n",
      "\t\t Solution \t\t\t\t\t Prediction \n",
      "(array([1, 0, 0, 0, 0, 0, 0, 0, 0, 0]), array([0.00804281, 0.00431932, 0.00958577, 0.00066268, 0.01623217,\n",
      "       0.00026932, 0.0003372 , 0.00246383, 0.04721666, 0.12363274],\n",
      "      dtype=float32))\n",
      "(array([1, 0, 0, 0, 0, 0, 0, 0, 0, 0]), array([0.05134178, 0.03019629, 0.0633681 , 0.01068958, 0.10274333,\n",
      "       0.01568337, 0.00886396, 0.04169127, 0.19245283, 0.2851533 ],\n",
      "      dtype=float32))\n",
      "(array([0, 1, 0, 0, 0, 0, 0, 0, 0, 0]), array([0.02283571, 0.02270712, 0.02664666, 0.00502044, 0.02481692,\n",
      "       0.00292173, 0.00373316, 0.01611462, 0.10023662, 0.27375892],\n",
      "      dtype=float32))\n",
      "(array([0, 1, 0, 0, 0, 0, 0, 0, 0, 0]), array([0.01751542, 0.02417152, 0.07796021, 0.00801188, 0.06926689,\n",
      "       0.00430315, 0.00312925, 0.01737235, 0.09869957, 0.13467118],\n",
      "      dtype=float32))\n",
      "(array([0, 0, 0, 1, 0, 0, 0, 0, 0, 0]), array([0.01400858, 0.00776965, 0.01255897, 0.00138657, 0.06400117,\n",
      "       0.00073053, 0.00085173, 0.00675058, 0.05291864, 0.09851734],\n",
      "      dtype=float32))\n",
      "(array([0, 0, 0, 1, 0, 0, 0, 0, 0, 0]), array([0.03613978, 0.01965658, 0.03874145, 0.00671365, 0.06985541,\n",
      "       0.00432226, 0.00373424, 0.01683084, 0.13262004, 0.23560461],\n",
      "      dtype=float32))\n",
      "(array([0, 0, 0, 1, 0, 0, 0, 0, 0, 0]), array([0.03546125, 0.027732  , 0.083172  , 0.0110276 , 0.13275808,\n",
      "       0.00970473, 0.0069461 , 0.03297263, 0.09876329, 0.1978776 ],\n",
      "      dtype=float32))\n",
      "(array([0, 0, 0, 0, 1, 0, 0, 0, 0, 0]), array([0.18931551, 0.27924374, 0.30197248, 0.1871473 , 0.39274532,\n",
      "       0.17405957, 0.14022638, 0.2699121 , 0.3434834 , 0.36172816],\n",
      "      dtype=float32))\n",
      "(array([0, 0, 0, 0, 1, 0, 0, 0, 0, 0]), array([0.04659254, 0.01834542, 0.02584318, 0.00776687, 0.06629299,\n",
      "       0.00723003, 0.01218451, 0.02176027, 0.10136427, 0.11644319],\n",
      "      dtype=float32))\n",
      "(array([0, 0, 0, 0, 0, 1, 0, 0, 0, 0]), array([0.02917649, 0.020057  , 0.03641891, 0.00866246, 0.0745468 ,\n",
      "       0.00539911, 0.00733495, 0.02652939, 0.12957957, 0.21901113],\n",
      "      dtype=float32))\n",
      "(array([0, 0, 0, 0, 0, 1, 0, 0, 0, 0]), array([0.00615613, 0.0028669 , 0.01362285, 0.00045664, 0.04470202,\n",
      "       0.00036812, 0.00026961, 0.00296551, 0.02581582, 0.09597391],\n",
      "      dtype=float32))\n",
      "(array([0, 0, 0, 0, 0, 1, 0, 0, 0, 0]), array([0.01213251, 0.00527434, 0.02374329, 0.00175166, 0.05092034,\n",
      "       0.00125529, 0.00269836, 0.01100505, 0.04851726, 0.07410919],\n",
      "      dtype=float32))\n",
      "(array([0, 0, 0, 0, 0, 0, 1, 0, 0, 0]), array([0.05520434, 0.0390524 , 0.08868242, 0.02380926, 0.13302156,\n",
      "       0.01752265, 0.01825595, 0.05877669, 0.12131669, 0.23214395],\n",
      "      dtype=float32))\n",
      "(array([0, 0, 0, 0, 0, 0, 1, 0, 0, 0]), array([0.02122748, 0.01583316, 0.02696757, 0.0049383 , 0.06774224,\n",
      "       0.00311938, 0.00481696, 0.0124741 , 0.08562303, 0.13641468],\n",
      "      dtype=float32))\n",
      "(array([0, 0, 0, 0, 0, 0, 1, 0, 0, 0]), array([0.03713639, 0.02602109, 0.06971497, 0.0070927 , 0.10474762,\n",
      "       0.01114103, 0.01002363, 0.03016861, 0.12842739, 0.1895086 ],\n",
      "      dtype=float32))\n",
      "(array([0, 0, 0, 0, 0, 0, 0, 1, 0, 0]), array([0.03764845, 0.01445111, 0.04136364, 0.00759751, 0.05053232,\n",
      "       0.00462873, 0.00453135, 0.02173182, 0.11166904, 0.18083517],\n",
      "      dtype=float32))\n",
      "(array([0, 0, 0, 0, 0, 0, 0, 0, 1, 0]), array([0.01478448, 0.00326321, 0.00686736, 0.00043849, 0.01033204,\n",
      "       0.00024023, 0.00050798, 0.00112817, 0.04082949, 0.16886546],\n",
      "      dtype=float32))\n",
      "(array([0, 0, 0, 0, 0, 0, 0, 0, 1, 0]), array([0.0581822 , 0.03825196, 0.07474817, 0.02094046, 0.09199481,\n",
      "       0.02307666, 0.0136765 , 0.04811627, 0.18428047, 0.1808719 ],\n",
      "      dtype=float32))\n",
      "Normalized balanced accuracy (2*BAC-1) = 0.1851.\n"
     ]
    }
   ],
   "source": [
    "from score import autodl_bac\n",
    "from libscores import read_array\n",
    "solution_file = join(data_dir, data_name + '.solution')\n",
    "solution = read_array(solution_file)\n",
    "current_bac = autodl_bac(solution, prediction)\n",
    "print('Number of test examples: %d \\n\\t\\t Solution \\t\\t\\t\\t\\t Prediction ' % len(solution))\n",
    "[print(z) for z in zip(solution, prediction)]\n",
    "print(\"Normalized balanced accuracy (2*BAC-1) = {:.4f}.\".format(current_bac))"
   ]
  },
  {
   "cell_type": "markdown",
   "metadata": {},
   "source": [
    "<div style=\"background:#cfdfff\">\n",
    "<h1> Step 5: Making a submission </h1> \n",
    "\n",
    "<h2> Unit testing </h2> \n",
    "\n",
    "It is <b><span style=\"color:red\">important that you test your submission files before submitting them</span></b>. All you have to do to make a submission is modify the file <code>model.py</code> in the <code>AutoDL_sample_code_submission/</code> directory, then run this test to make sure everything works fine. This is the actual program that will be run on the server to test your submission. \n",
    "</div>"
   ]
  },
  {
   "cell_type": "code",
   "execution_count": 11,
   "metadata": {},
   "outputs": [
    {
     "name": "stdout",
     "output_type": "stream",
     "text": [
      "SCORING INFO: 19-03-19 17:52:15 Cleaning existing score_dir: /Users/evariste/projects/autodl/codalab_competition_bundle/AutoDL_starting_kit/AutoDL_scoring_output\n",
      "INGESTION INFO: 19-03-19 17:52:18 Cleaning existing output_dir: /Users/evariste/projects/autodl/codalab_competition_bundle/AutoDL_starting_kit/AutoDL_sample_result_submission\n",
      "INGESTION INFO: 19-03-19 17:52:18 Cleaning existing checkpoints_dir: /Users/evariste/projects/autodl/codalab_competition_bundle/AutoDL_starting_kit/checkpoints_miniciao\n",
      "INGESTION INFO: 19-03-19 17:52:18 ========== Ingestion program version 1 ==========\n",
      "INGESTION INFO: 19-03-19 17:52:18 ************************************************\n",
      "INGESTION INFO: 19-03-19 17:52:18 ******** Processing dataset Miniciao ********\n",
      "INGESTION INFO: 19-03-19 17:52:18 ************************************************\n",
      "INGESTION INFO: 19-03-19 17:52:18 Reading training set and test set...\n",
      "SCORING INFO: 19-03-19 17:52:18 Start scoring program at Tue Mar 19 17:52:15 2019\n",
      "WARNING:tensorflow:From /Users/evariste/projects/autodl/codalab_competition_bundle/AutoDL_starting_kit/AutoDL_ingestion_program/dataset.py:223: sparse_to_dense (from tensorflow.python.ops.sparse_ops) is deprecated and will be removed in a future version.\n",
      "Instructions for updating:\n",
      "Create a `tf.sparse.SparseTensor` and use `tf.sparse.to_dense` instead.\n",
      "INGESTION INFO: 19-03-19 17:52:19 Creating model...\n",
      "MODEL INFO: 19-03-19 17:52:19 The dataset miniciao has 82 training examples and 10 classes.\n",
      "INGESTION INFO: 19-03-19 17:52:19 Training the model...\n",
      "MODEL INFO: 19-03-19 17:52:19 Begin training for another 10 steps...\n",
      "MODEL INFO: 19-03-19 17:52:19 Tensor shape before preprocessing: (1, 32, 32, 3)\n",
      "MODEL INFO: 19-03-19 17:52:19 Tensor shape after preprocessing: (1, 32, 32, 3)\n",
      "2019-03-19 17:52:19.754886: I tensorflow/core/platform/cpu_feature_guard.cc:141] Your CPU supports instructions that this TensorFlow binary was not compiled to use: AVX2 FMA\n",
      "MODEL INFO: 19-03-19 17:52:20 10 steps trained. 1.15 sec used. Now total steps trained: 10. Total time used for training: 1.15 sec. Current estimated time per step: 1.15e-01 sec.\n",
      "MODEL INFO: 19-03-19 17:52:20 Model already trained for 3.658536585365854 epochs.\n",
      "MODEL INFO: 19-03-19 17:52:20 Begin testing... \n",
      "MODEL INFO: 19-03-19 17:52:20 Tensor shape before preprocessing: (1, 32, 32, 3)\n",
      "MODEL INFO: 19-03-19 17:52:20 Tensor shape after preprocessing: (1, 32, 32, 3)\n",
      "MODEL INFO: 19-03-19 17:52:20 Asserting predictions have the same number of columns...\n",
      "MODEL INFO: 19-03-19 17:52:20 [+] Successfully made one prediction. 0.32 sec used. Total time used for testing: 0.32 sec. Current estimated time for test: 3.24e-01 sec.\n",
      "INGESTION INFO: 19-03-19 17:52:20 [+] Prediction success, time spent so far  1.48 sec\n",
      "INGESTION INFO: 19-03-19 17:52:20 [+] Time left 7198.52 sec\n",
      "INGESTION INFO: 19-03-19 17:52:20 Training the model...\n",
      "MODEL INFO: 19-03-19 17:52:20 Begin training for another 2 steps...estimated time for this: 0.23 sec.\n",
      "SCORING INFO: 19-03-19 17:52:20 [+] New prediction found. Now number of predictions made = 1\n",
      "SCORING INFO: 19-03-19 17:52:20 BAC of the latest prediction is 0.1747.\n",
      "SCORING INFO: 19-03-19 17:52:20 Accuracy of the latest prediction is 0.0467.\n",
      "MODEL INFO: 19-03-19 17:52:20 Tensor shape before preprocessing: (1, 32, 32, 3)\n",
      "MODEL INFO: 19-03-19 17:52:20 Tensor shape after preprocessing: (1, 32, 32, 3)\n",
      "SCORING INFO: 19-03-19 17:52:22 Current area under learning curve for miniciao: 0.1487\n",
      "MODEL INFO: 19-03-19 17:52:22 2 steps trained. 1.48 sec used. Now total steps trained: 12. Total time used for training: 2.63 sec. Current estimated time per step: 2.19e-01 sec.\n",
      "MODEL INFO: 19-03-19 17:52:22 Model already trained for 4.390243902439025 epochs.\n",
      "MODEL INFO: 19-03-19 17:52:22 Begin testing... estimated time: 3.24e-01 sec.\n",
      "MODEL INFO: 19-03-19 17:52:22 Tensor shape before preprocessing: (1, 32, 32, 3)\n",
      "MODEL INFO: 19-03-19 17:52:22 Tensor shape after preprocessing: (1, 32, 32, 3)\n",
      "MODEL INFO: 19-03-19 17:52:22 Asserting predictions have the same number of columns...\n",
      "MODEL INFO: 19-03-19 17:52:22 [+] Successfully made one prediction. 0.30 sec used. Total time used for testing: 0.63 sec. Current estimated time for test: 3.14e-01 sec.\n",
      "INGESTION INFO: 19-03-19 17:52:22 [+] Prediction success, time spent so far  3.26 sec\n",
      "INGESTION INFO: 19-03-19 17:52:22 [+] Time left 7196.74 sec\n",
      "INGESTION INFO: 19-03-19 17:52:22 Training the model...\n",
      "MODEL INFO: 19-03-19 17:52:22 Begin training for another 4 steps...estimated time for this: 0.88 sec.\n",
      "MODEL INFO: 19-03-19 17:52:22 Tensor shape before preprocessing: (1, 32, 32, 3)\n",
      "MODEL INFO: 19-03-19 17:52:22 Tensor shape after preprocessing: (1, 32, 32, 3)\n",
      "SCORING INFO: 19-03-19 17:52:23 [+] New prediction found. Now number of predictions made = 2\n",
      "SCORING INFO: 19-03-19 17:52:23 BAC of the latest prediction is 0.1644.\n",
      "SCORING INFO: 19-03-19 17:52:23 Accuracy of the latest prediction is 0.0570.\n",
      "SCORING INFO: 19-03-19 17:52:23 Current area under learning curve for miniciao: 0.1409\n",
      "MODEL INFO: 19-03-19 17:52:24 4 steps trained. 1.71 sec used. Now total steps trained: 16. Total time used for training: 4.34 sec. Current estimated time per step: 2.71e-01 sec.\n",
      "MODEL INFO: 19-03-19 17:52:24 Model already trained for 5.853658536585366 epochs.\n",
      "MODEL INFO: 19-03-19 17:52:24 Begin testing... estimated time: 3.14e-01 sec.\n",
      "MODEL INFO: 19-03-19 17:52:24 Tensor shape before preprocessing: (1, 32, 32, 3)\n",
      "MODEL INFO: 19-03-19 17:52:24 Tensor shape after preprocessing: (1, 32, 32, 3)\n",
      "MODEL INFO: 19-03-19 17:52:24 Asserting predictions have the same number of columns...\n",
      "MODEL INFO: 19-03-19 17:52:24 [+] Successfully made one prediction. 0.28 sec used. Total time used for testing: 0.91 sec. Current estimated time for test: 3.04e-01 sec.\n",
      "INGESTION INFO: 19-03-19 17:52:24 [+] Prediction success, time spent so far  5.26 sec\n",
      "INGESTION INFO: 19-03-19 17:52:24 [+] Time left 7194.74 sec\n",
      "INGESTION INFO: 19-03-19 17:52:24 Training the model...\n",
      "MODEL INFO: 19-03-19 17:52:24 Begin training for another 8 steps...estimated time for this: 2.17 sec.\n",
      "MODEL INFO: 19-03-19 17:52:24 Tensor shape before preprocessing: (1, 32, 32, 3)\n",
      "MODEL INFO: 19-03-19 17:52:24 Tensor shape after preprocessing: (1, 32, 32, 3)\n",
      "SCORING INFO: 19-03-19 17:52:24 [+] New prediction found. Now number of predictions made = 3\n",
      "SCORING INFO: 19-03-19 17:52:24 BAC of the latest prediction is 0.1574.\n",
      "SCORING INFO: 19-03-19 17:52:24 Accuracy of the latest prediction is 0.0818.\n",
      "SCORING INFO: 19-03-19 17:52:25 Current area under learning curve for miniciao: 0.1356\n",
      "MODEL INFO: 19-03-19 17:52:26 8 steps trained. 1.51 sec used. Now total steps trained: 24. Total time used for training: 5.85 sec. Current estimated time per step: 2.44e-01 sec.\n",
      "MODEL INFO: 19-03-19 17:52:26 Model already trained for 8.78048780487805 epochs.\n",
      "MODEL INFO: 19-03-19 17:52:26 Begin testing... estimated time: 3.04e-01 sec.\n",
      "MODEL INFO: 19-03-19 17:52:26 Tensor shape before preprocessing: (1, 32, 32, 3)\n",
      "MODEL INFO: 19-03-19 17:52:26 Tensor shape after preprocessing: (1, 32, 32, 3)\n",
      "MODEL INFO: 19-03-19 17:52:26 Asserting predictions have the same number of columns...\n",
      "MODEL INFO: 19-03-19 17:52:26 [+] Successfully made one prediction. 0.41 sec used. Total time used for testing: 1.33 sec. Current estimated time for test: 3.32e-01 sec.\n",
      "INGESTION INFO: 19-03-19 17:52:26 [+] Prediction success, time spent so far  7.19 sec\n",
      "INGESTION INFO: 19-03-19 17:52:26 [+] Time left 7192.81 sec\n",
      "INGESTION INFO: 19-03-19 17:52:26 Training the model...\n",
      "MODEL INFO: 19-03-19 17:52:26 Begin training for another 16 steps...estimated time for this: 3.90 sec.\n",
      "MODEL INFO: 19-03-19 17:52:26 Tensor shape before preprocessing: (1, 32, 32, 3)\n",
      "MODEL INFO: 19-03-19 17:52:26 Tensor shape after preprocessing: (1, 32, 32, 3)\n",
      "SCORING INFO: 19-03-19 17:52:26 [+] New prediction found. Now number of predictions made = 4\n",
      "SCORING INFO: 19-03-19 17:52:26 BAC of the latest prediction is 0.1738.\n",
      "SCORING INFO: 19-03-19 17:52:26 Accuracy of the latest prediction is 0.0823.\n",
      "SCORING INFO: 19-03-19 17:52:27 Current area under learning curve for miniciao: 0.1474\n",
      "MODEL INFO: 19-03-19 17:52:27 16 steps trained. 1.29 sec used. Now total steps trained: 40. Total time used for training: 7.14 sec. Current estimated time per step: 1.78e-01 sec.\n"
     ]
    },
    {
     "name": "stdout",
     "output_type": "stream",
     "text": [
      "MODEL INFO: 19-03-19 17:52:27 Model already trained for 14.634146341463415 epochs.\n",
      "MODEL INFO: 19-03-19 17:52:27 Begin testing... estimated time: 3.32e-01 sec.\n",
      "MODEL INFO: 19-03-19 17:52:27 Tensor shape before preprocessing: (1, 32, 32, 3)\n",
      "MODEL INFO: 19-03-19 17:52:27 Tensor shape after preprocessing: (1, 32, 32, 3)\n",
      "MODEL INFO: 19-03-19 17:52:28 Asserting predictions have the same number of columns...\n",
      "MODEL INFO: 19-03-19 17:52:28 [+] Successfully made one prediction. 0.31 sec used. Total time used for testing: 1.64 sec. Current estimated time for test: 3.28e-01 sec.\n",
      "INGESTION INFO: 19-03-19 17:52:28 [+] Prediction success, time spent so far  8.79 sec\n",
      "INGESTION INFO: 19-03-19 17:52:28 [+] Time left 7191.21 sec\n",
      "INGESTION INFO: 19-03-19 17:52:28 Training the model...\n",
      "MODEL INFO: 19-03-19 17:52:28 Begin training for another 32 steps...estimated time for this: 5.71 sec.\n",
      "MODEL INFO: 19-03-19 17:52:28 Tensor shape before preprocessing: (1, 32, 32, 3)\n",
      "MODEL INFO: 19-03-19 17:52:28 Tensor shape after preprocessing: (1, 32, 32, 3)\n",
      "SCORING INFO: 19-03-19 17:52:28 [+] New prediction found. Now number of predictions made = 5\n",
      "SCORING INFO: 19-03-19 17:52:28 BAC of the latest prediction is 0.1717.\n",
      "SCORING INFO: 19-03-19 17:52:28 Accuracy of the latest prediction is 0.0824.\n",
      "SCORING INFO: 19-03-19 17:52:28 Current area under learning curve for miniciao: 0.1460\n",
      "MODEL INFO: 19-03-19 17:52:29 32 steps trained. 1.47 sec used. Now total steps trained: 72. Total time used for training: 8.61 sec. Current estimated time per step: 1.20e-01 sec.\n",
      "MODEL INFO: 19-03-19 17:52:29 Model already trained for 26.341463414634145 epochs.\n",
      "MODEL INFO: 19-03-19 17:52:29 Begin testing... estimated time: 3.28e-01 sec.\n",
      "MODEL INFO: 19-03-19 17:52:29 Tensor shape before preprocessing: (1, 32, 32, 3)\n",
      "MODEL INFO: 19-03-19 17:52:29 Tensor shape after preprocessing: (1, 32, 32, 3)\n",
      "MODEL INFO: 19-03-19 17:52:29 Asserting predictions have the same number of columns...\n",
      "MODEL INFO: 19-03-19 17:52:29 [+] Successfully made one prediction. 0.31 sec used. Total time used for testing: 1.95 sec. Current estimated time for test: 3.25e-01 sec.\n",
      "INGESTION INFO: 19-03-19 17:52:29 [+] Prediction success, time spent so far 10.57 sec\n",
      "INGESTION INFO: 19-03-19 17:52:29 [+] Time left 7189.43 sec\n",
      "INGESTION INFO: 19-03-19 17:52:29 Training the model...\n",
      "MODEL INFO: 19-03-19 17:52:29 Begin training for another 64 steps...estimated time for this: 7.65 sec.\n",
      "SCORING INFO: 19-03-19 17:52:29 [+] New prediction found. Now number of predictions made = 6\n",
      "MODEL INFO: 19-03-19 17:52:29 Tensor shape before preprocessing: (1, 32, 32, 3)\n",
      "MODEL INFO: 19-03-19 17:52:29 Tensor shape after preprocessing: (1, 32, 32, 3)\n",
      "SCORING INFO: 19-03-19 17:52:29 BAC of the latest prediction is 0.1839.\n",
      "SCORING INFO: 19-03-19 17:52:29 Accuracy of the latest prediction is 0.0936.\n",
      "SCORING INFO: 19-03-19 17:52:30 Current area under learning curve for miniciao: 0.1545\n",
      "MODEL INFO: 19-03-19 17:52:32 64 steps trained. 2.22 sec used. Now total steps trained: 136. Total time used for training: 10.83 sec. Current estimated time per step: 7.97e-02 sec.\n",
      "MODEL INFO: 19-03-19 17:52:32 Model already trained for 49.75609756097561 epochs.\n",
      "MODEL INFO: 19-03-19 17:52:32 Oops! Choose to stop early for next call!\n",
      "MODEL INFO: 19-03-19 17:52:32 Begin testing... estimated time: 3.25e-01 sec.\n",
      "MODEL INFO: 19-03-19 17:52:32 Tensor shape before preprocessing: (1, 32, 32, 3)\n",
      "MODEL INFO: 19-03-19 17:52:32 Tensor shape after preprocessing: (1, 32, 32, 3)\n",
      "MODEL INFO: 19-03-19 17:52:32 Asserting predictions have the same number of columns...\n",
      "MODEL INFO: 19-03-19 17:52:32 [+] Successfully made one prediction. 0.32 sec used. Total time used for testing: 2.26 sec. Current estimated time for test: 3.23e-01 sec.\n",
      "INGESTION INFO: 19-03-19 17:52:32 [+] Prediction success, time spent so far 13.11 sec\n",
      "INGESTION INFO: 19-03-19 17:52:32 [+] Time left 7186.89 sec\n",
      "INGESTION INFO: 19-03-19 17:52:32 Training the model...\n",
      "MODEL INFO: 19-03-19 17:52:32 Begin training for another 128 steps...estimated time for this: 10.20 sec.\n",
      "MODEL INFO: 19-03-19 17:52:32 Tensor shape before preprocessing: (1, 32, 32, 3)\n",
      "MODEL INFO: 19-03-19 17:52:32 Tensor shape after preprocessing: (1, 32, 32, 3)\n",
      "SCORING INFO: 19-03-19 17:52:32 [+] New prediction found. Now number of predictions made = 7\n",
      "SCORING INFO: 19-03-19 17:52:32 BAC of the latest prediction is 0.1938.\n",
      "SCORING INFO: 19-03-19 17:52:32 Accuracy of the latest prediction is 0.1100.\n",
      "SCORING INFO: 19-03-19 17:52:33 Current area under learning curve for miniciao: 0.1612\n",
      "MODEL INFO: 19-03-19 17:52:35 128 steps trained. 2.91 sec used. Now total steps trained: 264. Total time used for training: 13.75 sec. Current estimated time per step: 5.21e-02 sec.\n",
      "INGESTION INFO: 19-03-19 17:52:35 Successfully write duration to duration.txt.\n",
      "INGESTION INFO: 19-03-19 17:52:35 [+] Done\n",
      "INGESTION INFO: 19-03-19 17:52:35 [+] Overall time spent 22.43 sec \n",
      "SCORING INFO: 19-03-19 17:52:35 Detected early stop of ingestion program. Stop scoring now.\n",
      "SCORING INFO: 19-03-19 17:52:36 [+] Successfully finished scoring! Duration used: 22.43 sec. The score of your algorithm on this task (miniciao) is: 0.161178.\n"
     ]
    }
   ],
   "source": [
    "!python run_local_test.py -dataset_dir=$data_dir -code_dir=$model_dir"
   ]
  },
  {
   "cell_type": "markdown",
   "metadata": {},
   "source": [
    "<div style=\"background:#cfdfff\">\n",
    "    <h1> Preparing the submission </h1>\n",
    "\n",
    "Zip the contents of `AutoDL_sample_code_submission/` (without the directory).\n",
    "<b><span style=\"color:red\">Do NOT zip the data with your submissions</span></b>.\n",
    "</div>"
   ]
  },
  {
   "cell_type": "code",
   "execution_count": 12,
   "metadata": {},
   "outputs": [
    {
     "name": "stdout",
     "output_type": "stream",
     "text": [
      "Submit this file: mysubmission.zip\n"
     ]
    }
   ],
   "source": [
    "import datetime \n",
    "from data_io import zipdir\n",
    "the_date = datetime.datetime.now().strftime(\"%y-%m-%d-%H-%M\")\n",
    "# sample_code_submission = 'sample_code_submission_' + the_date + '.zip'\n",
    "sample_code_submission = 'mysubmission.zip'\n",
    "zipdir(sample_code_submission, model_dir)\n",
    "print(\"Submit this file: \" + sample_code_submission)"
   ]
  }
 ],
 "metadata": {
  "kernelspec": {
   "display_name": "Python 3",
   "language": "python",
   "name": "python3"
  },
  "language_info": {
   "codemirror_mode": {
    "name": "ipython",
    "version": 3
   },
   "file_extension": ".py",
   "mimetype": "text/x-python",
   "name": "python",
   "nbconvert_exporter": "python",
   "pygments_lexer": "ipython3",
   "version": "3.6.8"
  }
 },
 "nbformat": 4,
 "nbformat_minor": 2
}
